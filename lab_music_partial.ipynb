{
 "cells": [
  {
   "cell_type": "markdown",
   "metadata": {},
   "source": [
    "# Lab:  Neural Networks for Music Classification\n",
    "\n",
    "In addition to the concepts in the [MNIST neural network demo](./demo2_mnist_neural.ipynb), in this lab, you will learn to:\n",
    "* Load a file from a URL\n",
    "* Extract simple features from audio samples for machine learning tasks such as speech recognition and classification\n",
    "* Build a simple neural network for music classification using these features\n",
    "* Use a callback to store the loss and accuracy history in the training process\n",
    "* Optimize the learning rate of the neural network\n",
    "\n",
    "To illustrate the basic concepts, we will look at a relatively simple music classification problem.  Given a sample of music, we want to determine which instrument (e.g. trumpet, violin, piano) is playing.  This dataset was generously supplied by [Prof. Juan Bello](http://steinhardt.nyu.edu/faculty/Juan_Pablo_Bello) at NYU Stenihardt  and his former PhD student Eric Humphrey (now at Spotify).  They have a complete website dedicated to deep learning methods in music informatics:\n",
    "\n",
    "http://marl.smusic.nyu.edu/wordpress/projects/feature-learning-deep-architectures/deep-learning-python-tutorial/\n",
    "\n",
    "You can also check out Juan's <a href=\"http://www.nyu.edu/classes/bello/ACA.html\">course</a>.\n",
    "\n"
   ]
  },
  {
   "cell_type": "markdown",
   "metadata": {},
   "source": [
    "## Loading Tensorflow\n",
    "\n",
    "Before starting this lab, you will need to install [Tensorflow](https://www.tensorflow.org/install/).  If you are using [Google colaboratory](https://colab.research.google.com), Tensorflow is already installed.  Run the following command to ensure Tensorflow is installed."
   ]
  },
  {
   "cell_type": "code",
   "execution_count": 1,
   "metadata": {},
   "outputs": [],
   "source": [
    "import tensorflow as tf"
   ]
  },
  {
   "cell_type": "markdown",
   "metadata": {},
   "source": [
    "Then, load the other packages."
   ]
  },
  {
   "cell_type": "code",
   "execution_count": 2,
   "metadata": {},
   "outputs": [],
   "source": [
    "import numpy as np\n",
    "import matplotlib\n",
    "import matplotlib.pyplot as plt\n",
    "%matplotlib inline"
   ]
  },
  {
   "cell_type": "markdown",
   "metadata": {},
   "source": [
    "## Audio Feature Extraction with Librosa\n",
    "\n",
    "The key to audio classification is to extract the correct features. In addition to `keras`, we will need the `librosa` package.  The `librosa` package in python has a rich set of methods extracting the features of audio samples commonly used in machine learning tasks such as speech recognition and sound classification. \n",
    "\n",
    "Installation instructions and complete documentation for the package are given on the [librosa main page](https://librosa.github.io/librosa/).  On most systems, you should be able to simply use:\n",
    "\n",
    "    pip install -u librosa\n",
    "    \n",
    "For Unix, you may need to load some additional packages:\n",
    "\n",
    "    sudo apt-get install build-essential\n",
    "    sudo apt-get install libxext-dev python-qt4 qt4-dev-tools\n",
    "    pip install librosa\n",
    "    \n",
    "After you have installed the package, try to import it."
   ]
  },
  {
   "cell_type": "code",
   "execution_count": 3,
   "metadata": {},
   "outputs": [],
   "source": [
    "import librosa\n",
    "import librosa.display\n",
    "import librosa.feature"
   ]
  },
  {
   "cell_type": "markdown",
   "metadata": {},
   "source": [
    "In this lab, we will use a set of music samples from the website:\n",
    "\n",
    "http://theremin.music.uiowa.edu\n",
    "\n",
    "This website has a great set of samples for audio processing.  Look on the web for how to use the `requests.get` and `file.write` commands to load the file at the URL provided into your working directory.\n",
    "\n",
    "You can play the audio sample by copying the file to your local machine and playing it on any media player.  If you listen to it you will hear a soprano saxaphone (with vibrato) playing four notes (C, C#, D, Eb)."
   ]
  },
  {
   "cell_type": "code",
   "execution_count": 4,
   "metadata": {},
   "outputs": [],
   "source": [
    "import requests\n",
    "fn = \"SopSax.Vib.pp.C6Eb6.aiff\"\n",
    "url = \"http://theremin.music.uiowa.edu/sound files/MIS/Woodwinds/sopranosaxophone/\"+fn\n",
    "\n",
    "# TODO:  Load the file from url and save it in a file under the name fn\n",
    "req = requests.get(url)\n",
    "with open(fn, \"wb\") as file:        \n",
    "    file.write(req.content)"
   ]
  },
  {
   "cell_type": "markdown",
   "metadata": {},
   "source": [
    "Next, use `librosa` command `librosa.load` to read the audio file with filename `fn` and get the samples `y` and sample rate `sr`."
   ]
  },
  {
   "cell_type": "code",
   "execution_count": 5,
   "metadata": {},
   "outputs": [],
   "source": [
    "# TODO\n",
    "\n",
    "y, sr = librosa.load(fn)"
   ]
  },
  {
   "cell_type": "markdown",
   "metadata": {},
   "source": [
    "Extracting features from audio files is an entire subject on its own right.  A commonly used set of features are called the Mel Frequency Cepstral Coefficients (MFCCs).  These are derived from the so-called mel spectrogram which is something like a regular spectrogram, but the power and frequency are represented in log scale, which more naturally aligns with human perceptual processing.  You can run the code below to display the mel spectrogram from the audio sample.\n",
    "\n",
    "You can easily see the four notes played in the audio track.  You also see the 'harmonics' of each notes, which are other tones at integer multiples of the fundamental frequency of each note."
   ]
  },
  {
   "cell_type": "code",
   "execution_count": 6,
   "metadata": {},
   "outputs": [
    {
     "data": {
      "image/png": "[encoded data removed]",
      "text/plain": [
       "<Figure size 432x288 with 2 Axes>"
      ]
     },
     "metadata": {},
     "output_type": "display_data"
    }
   ],
   "source": [
    "S = librosa.feature.melspectrogram(y=y, sr=sr, n_mels=128, fmax=8000)\n",
    "librosa.display.specshow(librosa.amplitude_to_db(S),\n",
    "                         y_axis='mel', fmax=8000, x_axis='time')\n",
    "plt.colorbar(format='%+2.0f dB')\n",
    "plt.title('Mel spectrogram')\n",
    "plt.tight_layout()"
   ]
  },
  {
   "cell_type": "markdown",
   "metadata": {},
   "source": [
    "## Downloading the Data\n",
    "\n",
    "Using the MFCC features described above, Eric Humphrey and Juan Bellow have created a complete data set that can used for instrument classification.  Essentially, they collected a number of data files from the website above.  For each audio file, the segmented the track into notes and then extracted 120 MFCCs for each note.  The goal is to recognize the instrument from the 120 MFCCs.  The process of feature extraction is quite involved.  So, we will just use their processed data provided at:\n",
    "\n",
    "https://github.com/marl/dl4mir-tutorial/blob/master/README.md\n",
    "\n",
    "Note the password.  Load the four files into some directory, say  `instrument_dataset`.  Then, load them with the commands."
   ]
  },
  {
   "cell_type": "code",
   "execution_count": 7,
   "metadata": {},
   "outputs": [],
   "source": [
    "data_dir = 'instrument_dataset/'\n",
    "Xtr = np.load(data_dir+'uiowa_train_data.npy')\n",
    "ytr = np.load(data_dir+'uiowa_train_labels.npy')\n",
    "Xts = np.load(data_dir+'uiowa_test_data.npy')\n",
    "yts = np.load(data_dir+'uiowa_test_labels.npy')"
   ]
  },
  {
   "cell_type": "markdown",
   "metadata": {},
   "source": [
    "Looking at the data files:\n",
    "* What are the number of training and test samples?\n",
    "* What is the number of features for each sample?\n",
    "* How many classes (i.e. instruments) are there per class?\n"
   ]
  },
  {
   "cell_type": "code",
   "execution_count": 8,
   "metadata": {},
   "outputs": [
    {
     "name": "stdout",
     "output_type": "stream",
     "text": [
      "Num training= 66247\n",
      "Num test=     14904\n",
      "Num features= 120\n",
      "Num classes=  10\n"
     ]
    }
   ],
   "source": [
    "# TODO\n",
    "print('Num training= {0:d}'.format(Xtr.shape[0]))\n",
    "print('Num test=     {0:d}'.format(Xts.shape[0]))\n",
    "print('Num features= {0:d}'.format(Xtr.shape[1]))\n",
    "print('Num classes=  {0:d}'.format(np.max(ytr)+1))"
   ]
  },
  {
   "cell_type": "markdown",
   "metadata": {},
   "source": [
    "Before continuing, you must scale the training and test data, `Xtr` and `Xts`.  Compute the mean and std deviation of each feature in `Xtr` and create a new training data set, `Xtr_scale`, by subtracting the mean and dividing by the std deviation.  Also compute a scaled test data set, `Xts_scale` using the mean and std deviation learned from the training data set."
   ]
  },
  {
   "cell_type": "code",
   "execution_count": 9,
   "metadata": {},
   "outputs": [],
   "source": [
    "# TODO Scale the training and test matrices\n",
    "from sklearn.preprocessing import StandardScaler\n",
    "\n",
    "scalingXtr = StandardScaler()\n",
    "scalingXtr.fit(Xtr)\n",
    "Xtr_scale = scalingXtr.transform(Xtr)\n",
    "\n",
    "scalingXts = StandardScaler()\n",
    "scalingXts.fit(Xts)\n",
    "Xts_scale = scalingXts.transform(Xts)\n",
    "\n"
   ]
  },
  {
   "cell_type": "markdown",
   "metadata": {
    "collapsed": true
   },
   "source": [
    "## Building a Neural Network Classifier\n",
    "\n",
    "Following the example in [MNIST neural network demo](./mnist_neural.ipynb), clear the keras session.  Then, create a neural network `model` with:\n",
    "* `nh=256` hidden units\n",
    "* `sigmoid` activation\n",
    "* select the input and output shapes correctly\n",
    "* print the model summary"
   ]
  },
  {
   "cell_type": "code",
   "execution_count": 10,
   "metadata": {},
   "outputs": [],
   "source": [
    "from tensorflow.keras.models import Model, Sequential\n",
    "from tensorflow.keras.layers import Dense, Activation\n",
    "import tensorflow.keras.optimizers as optimizers\n",
    "import tensorflow.keras.backend as K\n"
   ]
  },
  {
   "cell_type": "code",
   "execution_count": 11,
   "metadata": {},
   "outputs": [],
   "source": [
    "# TODO clear session\n",
    "K.clear_session()"
   ]
  },
  {
   "cell_type": "code",
   "execution_count": 12,
   "metadata": {},
   "outputs": [
    {
     "name": "stdout",
     "output_type": "stream",
     "text": [
      "WARNING:tensorflow:From c:\\users\\cz152\\appdata\\local\\programs\\python\\python36\\lib\\site-packages\\tensorflow\\python\\ops\\resource_variable_ops.py:435: colocate_with (from tensorflow.python.framework.ops) is deprecated and will be removed in a future version.\n",
      "Instructions for updating:\n",
      "Colocations handled automatically by placer.\n"
     ]
    }
   ],
   "source": [
    "# TODO: construct the model\n",
    "nx=Xtr_scale.shape[1]\n",
    "nin = nx\n",
    "nout = np.max(ytr)+1\n",
    "nh = 256\n",
    "model = Sequential()\n",
    "model.add(Dense(units=nh, input_shape=(nx,), activation='sigmoid', name='hidden'))\n",
    "model.add(Dense(units=nout, activation='linear', name='output'))"
   ]
  },
  {
   "cell_type": "code",
   "execution_count": 13,
   "metadata": {},
   "outputs": [
    {
     "name": "stdout",
     "output_type": "stream",
     "text": [
      "_________________________________________________________________\n",
      "Layer (type)                 Output Shape              Param #   \n",
      "=================================================================\n",
      "hidden (Dense)               (None, 256)               30976     \n",
      "_________________________________________________________________\n",
      "output (Dense)               (None, 10)                2570      \n",
      "=================================================================\n",
      "Total params: 33,546\n",
      "Trainable params: 33,546\n",
      "Non-trainable params: 0\n",
      "_________________________________________________________________\n"
     ]
    }
   ],
   "source": [
    "# TODO:  Print the model summary\n",
    "model.summary()"
   ]
  },
  {
   "cell_type": "markdown",
   "metadata": {},
   "source": [
    "Create an optimizer and compile the model.  Select the appropriate loss function and metrics.  For the optimizer, use the Adam optimizer with a learning rate of 0.001"
   ]
  },
  {
   "cell_type": "code",
   "execution_count": 14,
   "metadata": {
    "scrolled": true
   },
   "outputs": [],
   "source": [
    "# TODO\n",
    "opt = optimizers.Adam(lr=0.001)\n",
    "model.compile(optimizer=opt,\n",
    "              loss='sparse_categorical_crossentropy',\n",
    "              metrics=['accuracy'])"
   ]
  },
  {
   "cell_type": "markdown",
   "metadata": {},
   "source": [
    "Fit the model for 10 epochs using the scaled data for both the training and validation.  Use the `validation_data` option to pass the test data.  Also, pass the callback class create above.  Use a batch size of 100.  Your final accuracy should be >99%."
   ]
  },
  {
   "cell_type": "code",
   "execution_count": 15,
   "metadata": {
    "scrolled": true
   },
   "outputs": [
    {
     "name": "stdout",
     "output_type": "stream",
     "text": [
      "Train on 66247 samples, validate on 14904 samples\n",
      "Epoch 1/10\n",
      "66247/66247 [==============================] - 2s 35us/sample - loss: 2.4668 - acc: 0.0704 - val_loss: 2.3035 - val_acc: 0.0941\n",
      "Epoch 2/10\n",
      "66247/66247 [==============================] - 2s 32us/sample - loss: 2.3000 - acc: 0.0426 - val_loss: 2.3033 - val_acc: 0.0941\n",
      "Epoch 3/10\n",
      "66247/66247 [==============================] - 2s 32us/sample - loss: 2.3000 - acc: 0.0426 - val_loss: 2.3033 - val_acc: 0.0941\n",
      "Epoch 4/10\n",
      "66247/66247 [==============================] - 2s 29us/sample - loss: 2.3000 - acc: 0.0426 - val_loss: 2.3033 - val_acc: 0.0941\n",
      "Epoch 5/10\n",
      "66247/66247 [==============================] - 2s 32us/sample - loss: 2.3000 - acc: 0.0426 - val_loss: 2.3032 - val_acc: 0.0941\n",
      "Epoch 6/10\n",
      "66247/66247 [==============================] - 2s 32us/sample - loss: 2.3000 - acc: 0.0426 - val_loss: 2.3032 - val_acc: 0.0940\n",
      "Epoch 7/10\n",
      "66247/66247 [==============================] - 2s 33us/sample - loss: 2.3000 - acc: 0.0426 - val_loss: 2.3030 - val_acc: 0.0941\n",
      "Epoch 8/10\n",
      "66247/66247 [==============================] - 2s 32us/sample - loss: 2.3000 - acc: 0.0426 - val_loss: 2.3032 - val_acc: 0.0941\n",
      "Epoch 9/10\n",
      "66247/66247 [==============================] - 2s 32us/sample - loss: 2.3000 - acc: 0.0425 - val_loss: 2.3031 - val_acc: 0.0941\n",
      "Epoch 10/10\n",
      "66247/66247 [==============================] - 2s 33us/sample - loss: 2.3000 - acc: 0.0425 - val_loss: 2.3032 - val_acc: 0.0941\n",
      "14904/14904 [==============================] - 1s 41us/sample - loss: 2.3032 - acc: 0.0941\n",
      "accuracy = 0.094069\n"
     ]
    }
   ],
   "source": [
    "# TODO\n",
    "hist=model.fit(Xtr_scale, ytr, epochs=10, batch_size=100, validation_data=(Xts_scale,yts))\n",
    "score, acc = model.evaluate(Xts_scale, yts, verbose=1)\n",
    "print(\"accuracy = %f\" % acc)"
   ]
  },
  {
   "cell_type": "markdown",
   "metadata": {},
   "source": [
    "Plot the validation accuracy saved in `hist.history` dictionary. This gives one accuracy value per epoch.  You should see that the validation accuracy saturates at a little higher than 99%.  After that it \"bounces around\" due to the noise in the stochastic gradient descent."
   ]
  },
  {
   "cell_type": "code",
   "execution_count": 16,
   "metadata": {},
   "outputs": [
    {
     "data": {
      "text/plain": [
       "<matplotlib.legend.Legend at 0x22f323a8588>"
      ]
     },
     "execution_count": 16,
     "metadata": {},
     "output_type": "execute_result"
    },
    {
     "data": {
      "image/png": "[encoded data removed]",
      "text/plain": [
       "<Figure size 432x288 with 1 Axes>"
      ]
     },
     "metadata": {},
     "output_type": "display_data"
    }
   ],
   "source": [
    "# TODO\n",
    "tr_accuracy = hist.history['acc']\n",
    "val_accuracy = hist.history['val_acc']\n",
    "\n",
    "plt.plot(tr_accuracy)\n",
    "plt.plot(val_accuracy)\n",
    "plt.grid()\n",
    "plt.xlabel('epochs')\n",
    "plt.ylabel('accuarcy')\n",
    "plt.legend(['training accuracy', 'validation accuracy'])"
   ]
  },
  {
   "cell_type": "markdown",
   "metadata": {},
   "source": [
    "Plot the loss values saved in the `hist.history` dictionary.  You should see that the loss is steadily decreasing.  Use the `semilogy` plot."
   ]
  },
  {
   "cell_type": "code",
   "execution_count": 17,
   "metadata": {},
   "outputs": [
    {
     "data": {
      "image/png": "[encoded data removed]",
      "text/plain": [
       "<Figure size 432x288 with 1 Axes>"
      ]
     },
     "metadata": {},
     "output_type": "display_data"
    }
   ],
   "source": [
    "# TODO\n",
    "\n",
    "plt.semilogy(hist.history['loss'])\n",
    "plt.xlabel('Step', fontsize=16)\n",
    "plt.ylabel('Loss', fontsize=16)\n",
    "plt.grid()\n",
    "plt.tight_layout()"
   ]
  },
  {
   "cell_type": "markdown",
   "metadata": {},
   "source": [
    "## Optimizing the Learning Rate\n",
    "\n",
    "One challenge in training neural networks is the selection of the learning rate.  Rerun the above code, trying four learning rates as shown in the vector `rates`.  For each learning rate:\n",
    "* clear the session\n",
    "* construct the network\n",
    "* select the optimizer.  Use the Adam optimizer with the appropriate learrning rate.\n",
    "* train the model for 20 epochs\n",
    "* save the accuracy and losses"
   ]
  },
  {
   "cell_type": "code",
   "execution_count": 18,
   "metadata": {},
   "outputs": [
    {
     "name": "stdout",
     "output_type": "stream",
     "text": [
      "Train on 66247 samples, validate on 14904 samples\n",
      "Epoch 1/20\n",
      "66247/66247 [==============================] - 2s 36us/sample - loss: 2.3467 - acc: 0.1784 - val_loss: 2.3026 - val_acc: 0.1904\n",
      "Epoch 2/20\n",
      "66247/66247 [==============================] - 2s 33us/sample - loss: 2.3026 - acc: 0.1692 - val_loss: 2.3026 - val_acc: 0.1904\n",
      "Epoch 3/20\n",
      "66247/66247 [==============================] - 2s 32us/sample - loss: 2.3026 - acc: 0.1692 - val_loss: 2.3026 - val_acc: 0.1904\n",
      "Epoch 4/20\n",
      "66247/66247 [==============================] - 2s 32us/sample - loss: 2.3026 - acc: 0.1692 - val_loss: 2.3026 - val_acc: 0.1904\n",
      "Epoch 5/20\n",
      "66247/66247 [==============================] - 2s 32us/sample - loss: 2.3026 - acc: 0.1692 - val_loss: 2.3026 - val_acc: 0.1904\n",
      "Epoch 6/20\n",
      "66247/66247 [==============================] - 2s 32us/sample - loss: 2.3026 - acc: 0.1692 - val_loss: 2.3026 - val_acc: 0.1904\n",
      "Epoch 7/20\n",
      "66247/66247 [==============================] - 2s 32us/sample - loss: 2.3026 - acc: 0.1692 - val_loss: 2.3026 - val_acc: 0.1904\n",
      "Epoch 8/20\n",
      "66247/66247 [==============================] - 2s 32us/sample - loss: 2.3026 - acc: 0.1692 - val_loss: 2.3026 - val_acc: 0.1904\n",
      "Epoch 9/20\n",
      "66247/66247 [==============================] - 2s 32us/sample - loss: 2.3026 - acc: 0.1692 - val_loss: 2.3026 - val_acc: 0.1904\n",
      "Epoch 10/20\n",
      "66247/66247 [==============================] - 2s 33us/sample - loss: 2.3026 - acc: 0.1692 - val_loss: 2.3026 - val_acc: 0.1904\n",
      "Epoch 11/20\n",
      "66247/66247 [==============================] - 2s 33us/sample - loss: 2.3026 - acc: 0.1692 - val_loss: 2.3026 - val_acc: 0.1904\n",
      "Epoch 12/20\n",
      "66247/66247 [==============================] - 2s 31us/sample - loss: 2.3026 - acc: 0.1692 - val_loss: 2.3026 - val_acc: 0.1904\n",
      "Epoch 13/20\n",
      "66247/66247 [==============================] - 2s 31us/sample - loss: 2.3026 - acc: 0.1692 - val_loss: 2.3026 - val_acc: 0.1904\n",
      "Epoch 14/20\n",
      "66247/66247 [==============================] - 2s 33us/sample - loss: 2.3026 - acc: 0.1692 - val_loss: 2.3026 - val_acc: 0.1904\n",
      "Epoch 15/20\n",
      "66247/66247 [==============================] - 2s 33us/sample - loss: 2.3026 - acc: 0.1692 - val_loss: 2.3026 - val_acc: 0.1904\n",
      "Epoch 16/20\n",
      "66247/66247 [==============================] - 2s 33us/sample - loss: 2.3026 - acc: 0.1692 - val_loss: 2.3026 - val_acc: 0.1904\n",
      "Epoch 17/20\n",
      "66247/66247 [==============================] - 2s 33us/sample - loss: 2.3026 - acc: 0.1692 - val_loss: 2.3026 - val_acc: 0.1904\n",
      "Epoch 18/20\n",
      "66247/66247 [==============================] - 2s 32us/sample - loss: 2.3026 - acc: 0.1692 - val_loss: 2.3026 - val_acc: 0.1904\n",
      "Epoch 19/20\n",
      "66247/66247 [==============================] - 2s 32us/sample - loss: 2.3026 - acc: 0.1692 - val_loss: 2.3026 - val_acc: 0.1904\n",
      "Epoch 20/20\n",
      "66247/66247 [==============================] - 2s 32us/sample - loss: 2.3026 - acc: 0.1692 - val_loss: 2.3026 - val_acc: 0.1904\n",
      "14904/14904 [==============================] - 1s 40us/sample - loss: 2.3026 - acc: 0.1904\n",
      "lr=  1.0000e-02 acc=  0.190\n",
      "Train on 66247 samples, validate on 14904 samples\n",
      "Epoch 1/20\n",
      "66247/66247 [==============================] - 3s 40us/sample - loss: 2.1923 - acc: 0.2953 - val_loss: 2.2770 - val_acc: 0.1512\n",
      "Epoch 2/20\n",
      "66247/66247 [==============================] - 2s 33us/sample - loss: 2.2868 - acc: 0.1679 - val_loss: 2.2972 - val_acc: 0.1162\n",
      "Epoch 3/20\n",
      "66247/66247 [==============================] - 2s 33us/sample - loss: 2.2989 - acc: 0.1468 - val_loss: 2.3024 - val_acc: 0.0943\n",
      "Epoch 4/20\n",
      "66247/66247 [==============================] - 2s 33us/sample - loss: 2.3018 - acc: 0.1264 - val_loss: 2.3021 - val_acc: 0.0809\n",
      "Epoch 5/20\n",
      "66247/66247 [==============================] - 2s 34us/sample - loss: 2.2984 - acc: 0.1231 - val_loss: 2.3026 - val_acc: 0.1666\n",
      "Epoch 6/20\n",
      "66247/66247 [==============================] - 2s 32us/sample - loss: 2.3024 - acc: 0.2274 - val_loss: 2.3026 - val_acc: 0.1666\n",
      "Epoch 7/20\n",
      "66247/66247 [==============================] - 2s 35us/sample - loss: 2.3024 - acc: 0.2275 - val_loss: 2.3026 - val_acc: 0.1666\n",
      "Epoch 8/20\n",
      "66247/66247 [==============================] - 2s 33us/sample - loss: 2.3024 - acc: 0.2275 - val_loss: 2.3026 - val_acc: 0.1666\n",
      "Epoch 9/20\n",
      "66247/66247 [==============================] - 2s 33us/sample - loss: 2.3024 - acc: 0.2275 - val_loss: 2.3026 - val_acc: 0.1667\n",
      "Epoch 10/20\n",
      "66247/66247 [==============================] - 2s 34us/sample - loss: 2.3024 - acc: 0.2276 - val_loss: 2.3026 - val_acc: 0.1668\n",
      "Epoch 11/20\n",
      "66247/66247 [==============================] - 2s 34us/sample - loss: 2.3024 - acc: 0.2276 - val_loss: 2.3026 - val_acc: 0.1668\n",
      "Epoch 12/20\n",
      "66247/66247 [==============================] - 2s 32us/sample - loss: 2.3024 - acc: 0.2277 - val_loss: 2.3026 - val_acc: 0.1669\n",
      "Epoch 13/20\n",
      "66247/66247 [==============================] - 2s 32us/sample - loss: 2.3024 - acc: 0.2277 - val_loss: 2.3026 - val_acc: 0.1671\n",
      "Epoch 14/20\n",
      "66247/66247 [==============================] - 2s 30us/sample - loss: 2.3024 - acc: 0.2291 - val_loss: 2.3026 - val_acc: 0.1696\n",
      "Epoch 15/20\n",
      "66247/66247 [==============================] - 2s 31us/sample - loss: 2.3023 - acc: 0.2304 - val_loss: 2.3026 - val_acc: 0.1700\n",
      "Epoch 16/20\n",
      "66247/66247 [==============================] - 2s 32us/sample - loss: 2.3023 - acc: 0.2306 - val_loss: 2.3026 - val_acc: 0.1701\n",
      "Epoch 17/20\n",
      "66247/66247 [==============================] - 2s 33us/sample - loss: 2.3023 - acc: 0.2307 - val_loss: 2.3026 - val_acc: 0.1702\n",
      "Epoch 18/20\n",
      "66247/66247 [==============================] - 2s 33us/sample - loss: 2.3023 - acc: 0.2307 - val_loss: 2.3026 - val_acc: 0.1702\n",
      "Epoch 19/20\n",
      "66247/66247 [==============================] - 2s 32us/sample - loss: 2.3023 - acc: 0.2309 - val_loss: 2.3026 - val_acc: 0.1703\n",
      "Epoch 20/20\n",
      "66247/66247 [==============================] - 2s 32us/sample - loss: 2.3023 - acc: 0.2310 - val_loss: 2.3026 - val_acc: 0.1703\n",
      "14904/14904 [==============================] - 1s 40us/sample - loss: 2.3026 - acc: 0.1703\n",
      "lr=  1.0000e-03 acc=  0.170\n",
      "Train on 66247 samples, validate on 14904 samples\n",
      "Epoch 1/20\n",
      "66247/66247 [==============================] - 3s 38us/sample - loss: 2.6113 - acc: 0.3813 - val_loss: 2.0669 - val_acc: 0.3466\n",
      "Epoch 2/20\n",
      "66247/66247 [==============================] - 2s 33us/sample - loss: 2.0532 - acc: 0.4191 - val_loss: 2.1009 - val_acc: 0.4100\n",
      "Epoch 3/20\n",
      "66247/66247 [==============================] - 2s 33us/sample - loss: 2.0829 - acc: 0.4365 - val_loss: 2.2031 - val_acc: 0.3493\n",
      "Epoch 4/20\n",
      "66247/66247 [==============================] - 2s 32us/sample - loss: 2.0125 - acc: 0.3576 - val_loss: 2.0896 - val_acc: 0.3518\n",
      "Epoch 5/20\n",
      "66247/66247 [==============================] - 2s 31us/sample - loss: 2.0079 - acc: 0.3547 - val_loss: 2.1192 - val_acc: 0.4059\n",
      "Epoch 6/20\n",
      "66247/66247 [==============================] - 2s 33us/sample - loss: 2.0347 - acc: 0.3581 - val_loss: 2.0159 - val_acc: 0.4118\n",
      "Epoch 7/20\n",
      "66247/66247 [==============================] - 2s 33us/sample - loss: 2.0011 - acc: 0.3673 - val_loss: 2.1066 - val_acc: 0.4387\n",
      "Epoch 8/20\n",
      "66247/66247 [==============================] - 2s 32us/sample - loss: 1.9991 - acc: 0.3737 - val_loss: 2.1222 - val_acc: 0.4224\n",
      "Epoch 9/20\n",
      "66247/66247 [==============================] - 2s 33us/sample - loss: 2.0207 - acc: 0.3711 - val_loss: 2.0998 - val_acc: 0.4333\n",
      "Epoch 10/20\n",
      "66247/66247 [==============================] - 2s 32us/sample - loss: 1.9995 - acc: 0.3661 - val_loss: 2.1026 - val_acc: 0.4410\n",
      "Epoch 11/20\n",
      "66247/66247 [==============================] - 2s 33us/sample - loss: 2.0024 - acc: 0.3705 - val_loss: 2.0895 - val_acc: 0.4437\n",
      "Epoch 12/20\n",
      "66247/66247 [==============================] - 2s 32us/sample - loss: 2.0722 - acc: 0.3534 - val_loss: 2.1912 - val_acc: 0.4343\n",
      "Epoch 13/20\n",
      "66247/66247 [==============================] - 2s 29us/sample - loss: 2.0378 - acc: 0.3653 - val_loss: 2.0837 - val_acc: 0.4218\n",
      "Epoch 14/20\n",
      "66247/66247 [==============================] - 2s 33us/sample - loss: 2.0138 - acc: 0.3793 - val_loss: 2.0904 - val_acc: 0.4164\n",
      "Epoch 15/20\n",
      "66247/66247 [==============================] - 2s 33us/sample - loss: 2.0483 - acc: 0.3792 - val_loss: 2.2339 - val_acc: 0.3861\n",
      "Epoch 16/20\n",
      "66247/66247 [==============================] - 2s 32us/sample - loss: 1.9239 - acc: 0.3696 - val_loss: 2.1082 - val_acc: 0.3930\n"
     ]
    },
    {
     "name": "stdout",
     "output_type": "stream",
     "text": [
      "Epoch 17/20\n",
      "66247/66247 [==============================] - 2s 30us/sample - loss: 1.9650 - acc: 0.3490 - val_loss: 2.0872 - val_acc: 0.3542\n",
      "Epoch 18/20\n",
      "66247/66247 [==============================] - 2s 32us/sample - loss: 1.9939 - acc: 0.3382 - val_loss: 2.0821 - val_acc: 0.3600\n",
      "Epoch 19/20\n",
      "66247/66247 [==============================] - 2s 33us/sample - loss: 1.9872 - acc: 0.3394 - val_loss: 2.0473 - val_acc: 0.3654\n",
      "Epoch 20/20\n",
      "66247/66247 [==============================] - 2s 33us/sample - loss: 1.9842 - acc: 0.3383 - val_loss: 2.0686 - val_acc: 0.3027\n",
      "14904/14904 [==============================] - 1s 43us/sample - loss: 2.0686 - acc: 0.3027\n",
      "lr=  1.0000e-04 acc=  0.303\n"
     ]
    }
   ],
   "source": [
    "rates = [0.01,0.001,0.0001]\n",
    "batch_size = 100\n",
    "loss_hist = []\n",
    "\n",
    "# TODO\n",
    "for lr in rates:\n",
    "    \n",
    "    \n",
    "    K.clear_session()\n",
    "    nx=Xtr_scale.shape[1]\n",
    "    nin = nx\n",
    "    nout = np.max(ytr)+1\n",
    "    nh = 256\n",
    "    model = Sequential()\n",
    "    model.add(Dense(units=nh, input_shape=(nx,), activation='sigmoid', name='hidden'))\n",
    "    model.add(Dense(units=nout, activation='linear', name='output'))\n",
    "    opt = optimizers.Adam(lr)\n",
    "    model.compile(optimizer=opt,\n",
    "    loss='sparse_categorical_crossentropy',\n",
    "    metrics=['accuracy'])\n",
    "    ist=model.fit(Xtr_scale, ytr, epochs=20, batch_size=100, validation_data=(Xts_scale,yts))\n",
    "    \n",
    "\n",
    "    score, acc = model.evaluate(Xts_scale, yts, verbose=1)\n",
    "    print('lr={0:12.4e} acc={1:7.3f}'.format(lr,acc))\n",
    "    loss_hist.append(hist.history['loss'])\n",
    "\n",
    "losses = np.array(loss_hist).T"
   ]
  },
  {
   "cell_type": "markdown",
   "metadata": {},
   "source": [
    "Plot the loss funciton vs. the epoch number for all three learning rates on one graph.  You should see that the lower learning rates are more stable, but converge slower."
   ]
  },
  {
   "cell_type": "code",
   "execution_count": 19,
   "metadata": {},
   "outputs": [
    {
     "data": {
      "image/png": "[encoded data removed]",
      "text/plain": [
       "<Figure size 432x288 with 1 Axes>"
      ]
     },
     "metadata": {},
     "output_type": "display_data"
    }
   ],
   "source": [
    "# TODO\n",
    "nsteps = losses.shape[0]\n",
    "epochs = np.array(range(nsteps))*batch_size/nx\n",
    "\n",
    "plt.semilogy(epochs, losses)\n",
    "\n",
    "rate_str = ['{0:5.4f}'.format(r) for r in rates]\n",
    "plt.legend(rate_str)\n",
    "plt.axis([0,np.max(epochs),1e-3,1e3])\n",
    "plt.xlabel('Epoch', fontsize=16)\n",
    "plt.ylabel('Loss', fontsize=16)\n",
    "plt.tight_layout()"
   ]
  },
  {
   "cell_type": "code",
   "execution_count": null,
   "metadata": {},
   "outputs": [],
   "source": []
  },
  {
   "cell_type": "code",
   "execution_count": null,
   "metadata": {},
   "outputs": [],
   "source": []
  }
 ],
 "metadata": {
  "anaconda-cloud": {},
  "kernelspec": {
   "display_name": "Python 3",
   "language": "python",
   "name": "python3"
  },
  "language_info": {
   "codemirror_mode": {
    "name": "ipython",
    "version": 3
   },
   "file_extension": ".py",
   "mimetype": "text/x-python",
   "name": "python",
   "nbconvert_exporter": "python",
   "pygments_lexer": "ipython3",
   "version": "3.6.3"
  }
 },
 "nbformat": 4,
 "nbformat_minor": 1
}
