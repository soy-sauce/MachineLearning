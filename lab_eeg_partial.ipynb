{
 "cells": [
  {
   "cell_type": "raw",
   "metadata": {},
   "source": [
    "# Lab:  Source Localization for EEG\n",
    "\n",
    "EEG or [Electroencephalography](https://en.wikipedia.org/wiki/Electroencephalography) is a powerful tool for neuroscientists in understanding brain activity.  In EEG, a patient wears a headset with electrodes that measures voltages at a number of points on the scalp.  These voltages arise from ionic currents within the brain.  A common *inverse problem* is to estimate the which parts of the brain caused the measured response.  Source localization is useful in understanding which parts of the brain are involved in certain tasks.  A key challenge in this inverse problem is that the number of unknowns (possible locations in the brain) is much larger than the number of measurements.  In this lab, we will use LASSO regression on a real EEG dataset to overcome this problem and determine the brain region that is active under an auditory stimulus.\n",
    "\n",
    "In addition to the concepts in the [prostate LASSO demo](./demo_prostate.ipynb) you will learn to:\n",
    "* Represent responses of multi-channel time-series data, such as EEG, using linear models\n",
    "* Perform LASSO and Ridge regression\n",
    "* Select the regularization level via cross-validation\n",
    "* Visually compare the sparsity between the solutions\n",
    "\n",
    "We first download standard packages."
   ]
  },
  {
   "cell_type": "code",
   "execution_count": 1,
   "metadata": {},
   "outputs": [],
   "source": [
    "import numpy as np\n",
    "import matplotlib.pyplot as plt\n",
    "import pickle\n",
    "\n",
    "from sklearn.linear_model import Lasso, Ridge, ElasticNet\n",
    "from sklearn.metrics import r2_score\n",
    "from sklearn.model_selection import train_test_split"
   ]
  },
  {
   "cell_type": "markdown",
   "metadata": {},
   "source": [
    "## Load the Data\n",
    "\n",
    "The data in this lab is taken from one of the sample datasets in the [MNE website](https://martinos.org/mne/stable/index.html). The sample data is a recording from one subject who experienced some auditory stimulus on the left ear.    \n",
    "\n",
    "The raw data is very large (`1.5G`) and also requires that you install the `mne` python package. To make this lab easier, I have extracted and processed a small section of the data. The following command will download a `pickle` file `eeg_dat.p` to your local machine.  If you do want to create the data yourself, the program to create the data is in this directory in the github repository."
   ]
  },
  {
   "cell_type": "code",
   "execution_count": 2,
   "metadata": {},
   "outputs": [
    {
     "name": "stdout",
     "output_type": "stream",
     "text": [
      "File eeg_dat.p is already downloaded\n"
     ]
    }
   ],
   "source": [
    "fn_src ='https://drive.google.com/uc?export=download&id=1RzQpKONOcXSMxH2ZzOI4iVMiTgD6ttSl'\n",
    "fn_dst ='eeg_dat.p'\n",
    "\n",
    "import os\n",
    "from six.moves import urllib\n",
    "\n",
    "if os.path.isfile(fn_dst):\n",
    "    print('File %s is already downloaded' % fn_dst)\n",
    "else:        \n",
    "    print('Fetching file %s [53MB].  This may take a minute..' % fn_dst)\n",
    "    urllib.request.urlretrieve(fn_src, fn_dst)\n",
    "    print('File %s downloaded' % fn_dst)"
   ]
  },
  {
   "cell_type": "markdown",
   "metadata": {},
   "source": [
    "Now run the following command which will get the data from the `pickle` file."
   ]
  },
  {
   "cell_type": "code",
   "execution_count": 3,
   "metadata": {},
   "outputs": [],
   "source": [
    "import pickle\n",
    "fn = 'eeg_dat.p'\n",
    "with open(fn, 'rb') as fp:\n",
    "    [X,Y] = pickle.load(fp)"
   ]
  },
  {
   "cell_type": "markdown",
   "metadata": {},
   "source": [
    "To understand the data, there are three key variables:\n",
    "* `nt`    = number of time steps that we measure data\n",
    "* `nchan` = number of channels (i.e. electrodes) measured in each time step\n",
    "* `ncur`  = number of currents in the brain that we want to estimate.  \n",
    "\n",
    "Each current comes from one brain region (called a *voxel*) in either the `x`, `y` or `z` direction.  So,\n",
    "\n",
    "    nvoxels = ncur / 3\n",
    "    \n",
    "The components of the `X` and `Y` matrices are:\n",
    "*  `Y[i,k]` = electric field measurement on channel `i` at time `k`\n",
    "*  `X[i,j]` = sensitivity of channel `i` to current `j`.\n",
    "\n",
    "Using `X.shape` and `Y.shape` compute and print `nt`, `nchan`, `ncur` and `nvoxels`."
   ]
  },
  {
   "cell_type": "code",
   "execution_count": 4,
   "metadata": {},
   "outputs": [],
   "source": [
    "# TODO\n",
    "# nt = ...\n",
    "nt=Y.shape[1]\n",
    "# ncur = ...\n",
    "ncur=X.shape[1]\n",
    "# nchan = ...\n",
    "nchan=Y.shape[0]\n",
    "# nvoxels\n",
    "nvoxels=ncur/3"
   ]
  },
  {
   "cell_type": "markdown",
   "metadata": {},
   "source": [
    "## Ridge Regression\n",
    "\n",
    "Our goal is to estimate the currents in the brain from the measurements `Y`.  One simple linear model is:\n",
    "\n",
    "    Y[i,k]  = \\sum_j X[i,j]*W[j,k]+ b[k]\n",
    "\n",
    "where `W[j,k]` is the value of current `j` at time `k` and `b[k]` is a bias.  We can solve for the current matrix `W` via linear regression.  \n",
    "\n",
    "Howeever, there is a problem:\n",
    "*  There are `nt x ncur` unknowns in `W`\n",
    "*  There are only `nt x nchan` measurements in `Y`.\n",
    "\n",
    "In this problem, we have:\n",
    "\n",
    "    number of measurements  << number of unknowns\n",
    "    \n",
    "We need to use regularization in these circumstances.  We first try Ridge regression.\n",
    "\n",
    "First split the data into training and test.  Use the `train_test_split` function with `test_size=0.33`."
   ]
  },
  {
   "cell_type": "code",
   "execution_count": 5,
   "metadata": {},
   "outputs": [],
   "source": [
    "# TODO\n",
    "Xtr,Xts,Ytr,Yts = train_test_split(X,Y,test_size=0.33) "
   ]
  },
  {
   "cell_type": "markdown",
   "metadata": {},
   "source": [
    "Use the `Ridge` regression object in `sklearn` to fit the model on the training data.  Use a regularization, `alpha=1`."
   ]
  },
  {
   "cell_type": "code",
   "execution_count": 6,
   "metadata": {},
   "outputs": [],
   "source": [
    "# TODO\n",
    "# regr = Ridge(...)\n",
    "regr=Ridge(alpha=1.0, copy_X=True, fit_intercept=True, max_iter=None,\n",
    "      normalize=False, random_state=None, solver='auto', tol=0.001)"
   ]
  },
  {
   "cell_type": "markdown",
   "metadata": {},
   "source": [
    "Preict the values `Y` on both the training and test data.  Use the `r2_score` method to measure the `R^2` value on both the training and test.  You will see that `R^2` value is large for the training data, it is very low for the test data.  This suggest that even with regularization, the model is over-fitting the data."
   ]
  },
  {
   "cell_type": "code",
   "execution_count": 7,
   "metadata": {},
   "outputs": [
    {
     "name": "stdout",
     "output_type": "stream",
     "text": [
      "0.5841787010190982\n",
      "0.17933554891324263\n"
     ]
    }
   ],
   "source": [
    "# TODO\n",
    "regr.fit(Xtr,Ytr)\n",
    "y_tr_pred=regr.predict(Xtr)\n",
    "rsq_tr=r2_score(Ytr,y_tr_pred);\n",
    "print(rsq_tr)\n",
    "# rsq_ts = ...\n",
    "y_ts_pred=regr.predict(Xts)\n",
    "rsq_ts=r2_score(Yts,y_ts_pred);\n",
    "print(rsq_ts)"
   ]
  },
  {
   "cell_type": "markdown",
   "metadata": {},
   "source": [
    "Next, try to see if we can get a better `R^2` score using different values of `alpha`.  Use cross-validation to measure the test `R^2` for 20 `alpha` values logarithmically spaced from `10^{-2}` to `10^{2}` (use `np.logspace()`).  You can use regular cross-validation.  You do not need to do `K`-fold."
   ]
  },
  {
   "cell_type": "code",
   "execution_count": 8,
   "metadata": {},
   "outputs": [],
   "source": [
    "# TODO\n",
    "#print(np.logspace(10**-2,10**2))\n",
    "# TODO\n",
    "alphas = np.logspace(-2,2,20)\n",
    "\n",
    "r2test = []\n",
    "r2tr = []\n",
    "for i in alphas:\n",
    "    regr = Ridge(i,copy_X=True,fit_intercept = True,max_iter = None, \n",
    "             normalize = False, random_state = None, solver = 'auto', tol = 0.001)\n",
    "    regr.fit(Xtr,Ytr)\n",
    "    y_tr_pred = regr.predict(Xtr)\n",
    "    rsq_tr = r2_score(Ytr,y_tr_pred)\n",
    "    r2tr.append(rsq_tr)\n",
    "\n",
    "    y_ts_pred = regr.predict(Xts)\n",
    "    rsq_ts = r2_score(Yts,y_ts_pred)\n",
    "    r2test.append(rsq_ts)"
   ]
  },
  {
   "cell_type": "markdown",
   "metadata": {},
   "source": [
    "Plot the test `R^2` vs. `alpha`.  And print the maximum test `R^2`.  You should see that the maximum test `R^2` is still not very high."
   ]
  },
  {
   "cell_type": "code",
   "execution_count": 9,
   "metadata": {},
   "outputs": [
    {
     "data": {
      "image/png": "[encoded data removed]",
      "text/plain": [
       "<Figure size 432x288 with 1 Axes>"
      ]
     },
     "metadata": {},
     "output_type": "display_data"
    }
   ],
   "source": [
    "# TODO\n",
    "plt.plot(alphas,r2test)\n",
    "plt.xlabel(\"alpha\")\n",
    "plt.ylabel(\"R2\")\n",
    "plt.grid()\n",
    "plt.show()"
   ]
  },
  {
   "cell_type": "markdown",
   "metadata": {},
   "source": [
    "Now, let's take a look at the solution. \n",
    "\n",
    "* Find the optimal regularization `alpha` from the cross-validation\n",
    "* Re-fit the model at the optimal `alpha`\n",
    "* Get the current matrix `W` from the coefficients in the linear model.  These are stored in `regr.coef_`.  You may need a transpose\n",
    "* For each current `j` compute `Wrms[j] =  sqrt( sum_k W[j,k]**2 )` which is root mean squared current.\n",
    "\n",
    "You will see that the vector `Wrms` is not sparse.  This means that the solution that is found with Ridge regression finds currents in all locations."
   ]
  },
  {
   "cell_type": "code",
   "execution_count": 11,
   "metadata": {},
   "outputs": [
    {
     "name": "stdout",
     "output_type": "stream",
     "text": [
      "[1.443523640787805, 1.4767647594223297, 1.4948707092600704, 1.50151587170636, 1.5021963481200282, 1.502231408649967, 1.5051890549695772, 1.5124729211989005, 1.5241789268756356, 1.54054095529104, 1.5629306222736672, 1.5937214069888783, 1.6350684186863083, 1.6873590796050484, 1.7483787731421976, 1.8137181660913497, 1.878166977493516, 1.937362677134011, 1.9890298479154183, 2.033545925618452, 2.073858912481044, 2.114907115621299, 2.162702153767039, 2.2231178195767822, 2.300528195659221, 2.396487748897738, 2.508896380035613, 2.6320302042785784, 2.757501948297524, 2.8758893784467308, 2.978559106389872, 3.059196996936037, 3.1147011736947263, 3.145236143799624, 3.1534804830607595, 3.143286715053148, 3.118235774672245, 3.0806079712780945, 3.031165804110422, 2.969766373427832, 2.896446227853333, 2.8123982398257024, 2.720401688015803, 2.624529116098384, 2.529343395925048, 2.439023854209642, 2.3568394649991924, 2.2851460204194645, 2.2256772514602217, 2.17966166510716, 2.1474548364193313, 2.1278141373979844, 2.117400952058485, 2.1110628414932036, 2.102967715120553, 2.0881328762077267, 2.063634462326235, 2.0290667387502745, 1.9861299584006908, 1.9377143232586576, 1.886982047865401, 1.836953760974129, 1.7906842218123509, 1.7516293680025126, 1.723489927001552, 1.7091076414156863, 1.7087662894591404, 1.7190884702731408, 1.7335997165920864, 1.7449943217636161, 1.748038223362246, 1.7417262071205266, 1.729743516325291, 1.7188004955256482, 1.7152915062737941, 1.72172213866083, 1.7350539238346894, 1.7480780556060476, 1.7529402573857082, 1.7447232908463406, 1.723393315347164, 1.69346036739347, 1.6615946127776053, 1.6332402647980626, 1.6100286239747361]\n",
      "[[ 3.89020175e-02 -3.22998946e-02 -3.94851904e-02 ... -1.84040922e-05\n",
      "  -1.14209700e-03  5.69320525e-03]\n",
      " [ 4.14266847e-02 -3.39315843e-02 -4.12000681e-02 ... -2.56791844e-04\n",
      "  -1.24146260e-03  6.27423598e-03]\n",
      " [ 4.29117137e-02 -3.37970821e-02 -4.07828785e-02 ... -6.77764225e-04\n",
      "  -9.08421673e-04  6.12493459e-03]\n",
      " ...\n",
      " [ 4.78877491e-02 -1.10156476e-02 -1.32568386e-02 ...  9.97010531e-03\n",
      "  -1.25610680e-02 -9.15219738e-04]\n",
      " [ 3.82866754e-02 -6.61974679e-03 -8.52006549e-03 ...  1.03738785e-02\n",
      "  -1.22092986e-02 -2.10172456e-03]\n",
      " [ 2.86086911e-02 -3.07427600e-03 -5.01288165e-03 ...  1.07018529e-02\n",
      "  -1.15845655e-02 -3.56780209e-03]]\n"
     ]
    },
    {
     "data": {
      "image/png": "[encoded data removed]",
      "text/plain": [
       "<Figure size 432x288 with 1 Axes>"
      ]
     },
     "metadata": {},
     "output_type": "display_data"
    }
   ],
   "source": [
    "# TODO\n",
    "#im=np.argmax(rsq)\n",
    "#aopt=alphas[im]\n",
    "\n",
    "opAlpha = alphas[r2test.index(max(r2test))]\n",
    "regr = Ridge(opAlpha,copy_X=True,fit_intercept = True,max_iter = None, \n",
    "             normalize = False, random_state = None, solver = 'auto', tol = 0.001)\n",
    "regr.fit(Xtr,Ytr)\n",
    "w = regr.coef_\n",
    "w.transpose()\n",
    "\n",
    "Wrms = []\n",
    "\n",
    "for i in w:\n",
    "    rms = (np.sum(i**2))**0.5\n",
    "    Wrms.append(rms)\n",
    "print(Wrms)\n",
    "print(w)\n",
    "#plt.plot(Wrms)\n",
    "#plt.grid()"
   ]
  },
  {
   "cell_type": "markdown",
   "metadata": {},
   "source": [
    "## LASSO Regression\n",
    "\n",
    "We can improve the estimate by imposing sparsity.  Biologically, we know that only a limited number of brain regions should be involved in the reponse to a particular stimuli.  As a result, we would expect that the current matrix `W[j,k]` to be zero for most values `j,k`.  We can impose this constraint using LASSO regularization.\n",
    "\n",
    "Re-fit the training data using the `Lasso` model with `alpha=1e-3`.  Also set `max_iter=100` and `tol=0.01`.  The LASSO solver is much slower, so this make take a minute."
   ]
  },
  {
   "cell_type": "code",
   "execution_count": 11,
   "metadata": {},
   "outputs": [
    {
     "data": {
      "text/plain": [
       "Lasso(alpha=0.001, copy_X=True, fit_intercept=True, max_iter=100,\n",
       "      normalize=False, positive=False, precompute=False, random_state=None,\n",
       "      selection='cyclic', tol=0.01, warm_start=False)"
      ]
     },
     "execution_count": 11,
     "metadata": {},
     "output_type": "execute_result"
    }
   ],
   "source": [
    "# TODO\n",
    "model = Lasso(alpha=1e-3,max_iter=100,tol=0.01)\n",
    "model.fit(Xtr,Ytr)"
   ]
  },
  {
   "cell_type": "markdown",
   "metadata": {},
   "source": [
    "Now, test the model on the test data and measure the `R^2` value.  You should get a much better fit than with the Ridge regression solution.  "
   ]
  },
  {
   "cell_type": "code",
   "execution_count": 12,
   "metadata": {},
   "outputs": [
    {
     "name": "stdout",
     "output_type": "stream",
     "text": [
      "0.1769081278984139\n"
     ]
    }
   ],
   "source": [
    "# TODO\n",
    "y_ts_pred=model.predict(Xts)\n",
    "rsq_ts=r2_score(Yts,y_ts_pred);\n",
    "print(rsq_ts)"
   ]
  },
  {
   "cell_type": "markdown",
   "metadata": {},
   "source": [
    "We can now search for the optimal `alpha`.  Use cross-validation to find the `alpha` logarithically space between `alpha=10^{-3}` and `alpha=10^{-4}`.  Each fit takes some time, so use only 5 values of `alpha`. Also for each `alpha` store the current matrix.  This way, you will not have to re-fit the model."
   ]
  },
  {
   "cell_type": "code",
   "execution_count": 13,
   "metadata": {},
   "outputs": [
    {
     "name": "stdout",
     "output_type": "stream",
     "text": [
      "[0.8063988417375824, 0.8231380074672502, 0.8322246418529665, 0.8379415976107462, 0.8463043529379282, 0.8631146057765581, 0.892025310914833, 0.9335825600038448, 0.9857221728177794, 1.0451659269079079, 1.1087441506914788, 1.1740920800818897, 1.2397363798657675, 1.30486918332179, 1.3691057866380218, 1.4323613582275343, 1.4948570007431499, 1.5571657809967157, 1.6201991790984234, 1.685097895250554, 1.7530361753005534, 1.8249847692770031, 1.9014638015968421, 1.9823014096653058, 2.0664134022376426, 2.1516479668168027, 2.2347792831869673, 2.31173372527834, 2.378065351901633, 2.4296297724381906, 2.4633008734028135, 2.4775653770337587, 2.4728136107326812, 2.451222566097358, 2.416230927177087, 2.3717125813565434, 2.3211036149719333, 2.266768063500689, 2.2098220840486515, 2.1504562626193264, 2.0885631543677157, 2.024346330885091, 1.9586336978148235, 1.8927689069112985, 1.8281794540060865, 1.7658675547756, 1.7061019942947186, 1.6484785333170815, 1.59230096003909, 1.537060405136962, 1.4827541724289022, 1.429870307478178, 1.379080557693627, 1.3308112089120847, 1.2849451586771743, 1.2408344649073881, 1.197633319185209, 1.1548099722190537, 1.1126142996065655, 1.072333117930558, 1.0362351772662828, 1.0071888304603989, 0.9880019677143349, 0.980604170917762, 0.9853345196978106, 1.000625426100479, 1.0232596703517645, 1.049102640702861, 1.0740135058285891, 1.094659905708088, 1.1090614920704516, 1.116749785366717, 1.118556403286615, 1.1160446651439269, 1.1107814973683747, 1.103693004983331, 1.0947832508249347, 1.0833481446944813, 1.068565634366215, 1.0501727322032406, 1.0288895642760654, 1.0063929034654862, 0.9848188952287885, 0.9660118933180036, 0.9508834848416079]\n",
      "[[ 0.02333807 -0.02943928 -0.0374593  ...  0.00311264  0.00079511\n",
      "  -0.00868327]\n",
      " [ 0.02458174 -0.03042466 -0.03862562 ...  0.00298247  0.00066728\n",
      "  -0.00839584]\n",
      " [ 0.02430264 -0.0297302  -0.03774505 ...  0.00272893  0.00054445\n",
      "  -0.00780194]\n",
      " ...\n",
      " [ 0.02208297 -0.01238165 -0.01654704 ...  0.00333702 -0.00280604\n",
      "  -0.00322638]\n",
      " [ 0.02115702 -0.01091449 -0.01460529 ...  0.0028061  -0.00250732\n",
      "  -0.00242624]\n",
      " [ 0.01985125 -0.00920713 -0.01236284 ...  0.0023259  -0.00207168\n",
      "  -0.00205445]]\n"
     ]
    }
   ],
   "source": [
    "# TODO\n",
    "alphas = np.logspace(-2,2,5)\n",
    "\n",
    "r2test = []\n",
    "r2tr = []\n",
    "for i in alphas:\n",
    "    regr = Ridge(i,copy_X=True,fit_intercept = True,max_iter = None, \n",
    "             normalize = False, random_state = None, solver = 'auto', tol = 0.001)\n",
    "    regr.fit(Xtr,Ytr)\n",
    "    y_tr_pred = regr.predict(Xtr)\n",
    "    rsq_tr = r2_score(Ytr,y_tr_pred)\n",
    "    r2tr.append(rsq_tr)\n",
    "\n",
    "    y_ts_pred = regr.predict(Xts)\n",
    "    rsq_ts = r2_score(Yts,y_ts_pred)\n",
    "    r2test.append(rsq_ts)\n",
    "    \n",
    "opAlpha = alphas[r2test.index(max(r2test))]\n",
    "regr = Ridge(opAlpha,copy_X=True,fit_intercept = True,max_iter = None, \n",
    "             normalize = False, random_state = None, solver = 'auto', tol = 0.001)\n",
    "regr.fit(Xtr,Ytr)\n",
    "w = regr.coef_\n",
    "w.transpose()\n",
    "\n",
    "Wrms = []\n",
    "\n",
    "for i in w:\n",
    "    rms = (np.sum(i**2))**0.5\n",
    "    Wrms.append(rms)\n",
    "print(Wrms)\n",
    "print(w)"
   ]
  },
  {
   "cell_type": "markdown",
   "metadata": {},
   "source": [
    "Plot the `r^2` value vs. `alpha`.  Print the optimal `r^2`.  You should see it is much higher than with the best Ridge Regression case."
   ]
  },
  {
   "cell_type": "code",
   "execution_count": 14,
   "metadata": {},
   "outputs": [
    {
     "data": {
      "image/png": "[encoded data removed]",
      "text/plain": [
       "<Figure size 432x288 with 1 Axes>"
      ]
     },
     "metadata": {},
     "output_type": "display_data"
    }
   ],
   "source": [
    "# TODO\n",
    "plt.plot(alphas,r2test)\n",
    "plt.xlabel(\"alpha\")\n",
    "plt.ylabel(\"R2\")\n",
    "plt.grid()\n",
    "plt.show()"
   ]
  },
  {
   "cell_type": "markdown",
   "metadata": {},
   "source": [
    "Display the current matrix `W` for the optimal `alpha` as you did in the Ridge Regression case.  You will see that is much sparser."
   ]
  },
  {
   "cell_type": "code",
   "execution_count": 15,
   "metadata": {},
   "outputs": [
    {
     "name": "stdout",
     "output_type": "stream",
     "text": [
      "[0.8063988417375824, 0.8231380074672502, 0.8322246418529665, 0.8379415976107462, 0.8463043529379282, 0.8631146057765581, 0.892025310914833, 0.9335825600038448, 0.9857221728177794, 1.0451659269079079, 1.1087441506914788, 1.1740920800818897, 1.2397363798657675, 1.30486918332179, 1.3691057866380218, 1.4323613582275343, 1.4948570007431499, 1.5571657809967157, 1.6201991790984234, 1.685097895250554, 1.7530361753005534, 1.8249847692770031, 1.9014638015968421, 1.9823014096653058, 2.0664134022376426, 2.1516479668168027, 2.2347792831869673, 2.31173372527834, 2.378065351901633, 2.4296297724381906, 2.4633008734028135, 2.4775653770337587, 2.4728136107326812, 2.451222566097358, 2.416230927177087, 2.3717125813565434, 2.3211036149719333, 2.266768063500689, 2.2098220840486515, 2.1504562626193264, 2.0885631543677157, 2.024346330885091, 1.9586336978148235, 1.8927689069112985, 1.8281794540060865, 1.7658675547756, 1.7061019942947186, 1.6484785333170815, 1.59230096003909, 1.537060405136962, 1.4827541724289022, 1.429870307478178, 1.379080557693627, 1.3308112089120847, 1.2849451586771743, 1.2408344649073881, 1.197633319185209, 1.1548099722190537, 1.1126142996065655, 1.072333117930558, 1.0362351772662828, 1.0071888304603989, 0.9880019677143349, 0.980604170917762, 0.9853345196978106, 1.000625426100479, 1.0232596703517645, 1.049102640702861, 1.0740135058285891, 1.094659905708088, 1.1090614920704516, 1.116749785366717, 1.118556403286615, 1.1160446651439269, 1.1107814973683747, 1.103693004983331, 1.0947832508249347, 1.0833481446944813, 1.068565634366215, 1.0501727322032406, 1.0288895642760654, 1.0063929034654862, 0.9848188952287885, 0.9660118933180036, 0.9508834848416079]\n",
      "[[ 0.02333807 -0.02943928 -0.0374593  ...  0.00311264  0.00079511\n",
      "  -0.00868327]\n",
      " [ 0.02458174 -0.03042466 -0.03862562 ...  0.00298247  0.00066728\n",
      "  -0.00839584]\n",
      " [ 0.02430264 -0.0297302  -0.03774505 ...  0.00272893  0.00054445\n",
      "  -0.00780194]\n",
      " ...\n",
      " [ 0.02208297 -0.01238165 -0.01654704 ...  0.00333702 -0.00280604\n",
      "  -0.00322638]\n",
      " [ 0.02115702 -0.01091449 -0.01460529 ...  0.0028061  -0.00250732\n",
      "  -0.00242624]\n",
      " [ 0.01985125 -0.00920713 -0.01236284 ...  0.0023259  -0.00207168\n",
      "  -0.00205445]]\n"
     ]
    }
   ],
   "source": [
    "# TODO\n",
    "print(Wrms)\n",
    "print(w)"
   ]
  },
  {
   "cell_type": "markdown",
   "metadata": {},
   "source": [
    "## More fun\n",
    "\n",
    "If you want to more on this lab:\n",
    "* Install the [MNE python package](https://martinos.org/mne/stable/index.html).  This is an amazing package with many tools for processing EEG data.\n",
    "* In particular, you can use the above results to visualize where in the brain the currents sources are.\n",
    "* You can also improve the fitting with more regularization.  For example, we know that the currents will be non-zero in groups:  If the current is non-zero for one time, it is likely to non-zero for all time.  You can use the Group LASSO method.\n",
    "* You can combine these results to make predictions about what the patient is seeing or hearing or thinking."
   ]
  },
  {
   "cell_type": "code",
   "execution_count": null,
   "metadata": {},
   "outputs": [],
   "source": []
  }
 ],
 "metadata": {
  "kernelspec": {
   "display_name": "Python 3",
   "language": "python",
   "name": "python3"
  },
  "language_info": {
   "codemirror_mode": {
    "name": "ipython",
    "version": 3
   },
   "file_extension": ".py",
   "mimetype": "text/x-python",
   "name": "python",
   "nbconvert_exporter": "python",
   "pygments_lexer": "ipython3",
   "version": "3.6.3"
  }
 },
 "nbformat": 4,
 "nbformat_minor": 2
}
