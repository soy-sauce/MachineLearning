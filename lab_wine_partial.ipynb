{
 "cells": [
  {
   "cell_type": "markdown",
   "metadata": {},
   "source": [
    "# Lab:  Hyper-Parameter Optimization with PCA\n",
    "\n",
    "PCA is often applied as a pre-processing step with classifiers.  When using PCA in this manner, one must select the number of PC components to use along with parameters in classifier.  In this lab, we will demonstrate how to performing this *hyper-parameter optimization*.  In doing the lab, you will learn to:\n",
    "\n",
    "* Combine PCA with data scaling.\n",
    "* Compute and visualize PC components\n",
    "* Select the number of PCs with K-fold cross validation\n",
    "* Implement the multi-stage classifier pipeline in sklearn\n",
    "* Perform automatic parameter search using `GridSearchCV` in combination with a pipeline.\n",
    "\n",
    "We first download the basic packages."
   ]
  },
  {
   "cell_type": "code",
   "execution_count": 1,
   "metadata": {},
   "outputs": [],
   "source": [
    "import numpy as np\n",
    "import matplotlib\n",
    "import matplotlib.pyplot as plt"
   ]
  },
  {
   "cell_type": "markdown",
   "metadata": {},
   "source": [
    "## Downloading the Data\n",
    "\n",
    "We will use a very simple `wine` dataset, commonly used in teaching machine learning class.  The problem is to classify the type of red wine from features of the wine such as the `alchohol` and other chemical components.  There are three possible wine types."
   ]
  },
  {
   "cell_type": "code",
   "execution_count": 2,
   "metadata": {},
   "outputs": [],
   "source": [
    "from sklearn.datasets import load_wine\n",
    "from sklearn.model_selection import KFold\n",
    "data = load_wine()\n",
    "\n",
    "# TODO print the features names in data.feature_names and data.target_names"
   ]
  },
  {
   "cell_type": "markdown",
   "metadata": {},
   "source": [
    "Get the data matrix `X` from `data.data` and the target values `y` from `data.target`.  Print the number of samples, number of features and number of classes."
   ]
  },
  {
   "cell_type": "code",
   "execution_count": 3,
   "metadata": {},
   "outputs": [
    {
     "name": "stdout",
     "output_type": "stream",
     "text": [
      "Data size     = 178\n",
      "Number features   = 13\n",
      "Number classes = 3\n"
     ]
    }
   ],
   "source": [
    "\n",
    "# Data in 2D form\n",
    "X = data.data\n",
    "n_features = X.shape[1]\n",
    "\n",
    "# Labels of images \n",
    "y = data.target\n",
    "target_names = data.target_names\n",
    "n_classes = target_names.shape[0]\n",
    "\n",
    "print(\"Data size     =\", X.shape[0])\n",
    "print(\"Number features   =\", n_features)\n",
    "print(\"Number classes =\", n_classes)"
   ]
  },
  {
   "cell_type": "markdown",
   "metadata": {},
   "source": [
    "## Perform PCA for Visualization\n",
    "\n",
    "Before performing PCA, you should scale the data matrix to remove the mean and normalize the variance of the different components.  For this purpose, create a `StandardScaling` object `scaling`.  Then `fit` the scaling with the entire data `X`.  Transform the data and let `Xs` be the scaled data."
   ]
  },
  {
   "cell_type": "code",
   "execution_count": 4,
   "metadata": {},
   "outputs": [],
   "source": [
    "from sklearn.preprocessing import StandardScaler\n",
    "\n",
    "# TODO\n",
    "\n",
    "scaling = StandardScaler()\n",
    "scaling.fit(X)\n",
    "Xs = scaling.transform(X)"
   ]
  },
  {
   "cell_type": "markdown",
   "metadata": {},
   "source": [
    "Now, fit a PCA on the scaled data matrix `Xs`.  You can use the `sklearn` `PCA` method.  In order that we can visualize the results set `n_components=2`.  Select `svd_solver='randomized'` and `whiten=True`.  Use the the `pca.transform` method to find, `Z`, the coefficients of `Xs` in the PCA basis."
   ]
  },
  {
   "cell_type": "code",
   "execution_count": 5,
   "metadata": {},
   "outputs": [],
   "source": [
    "from sklearn.decomposition import PCA\n",
    "\n",
    "# TODO\n",
    "ncomp = 2\n",
    " # Construct the PCA object\n",
    "pca = PCA(n_components=ncomp, \n",
    "          svd_solver='randomized', whiten=True)\n",
    "\n",
    "# Fit the PCA components on the entire dataset\n",
    "pca.fit(Xs)\n",
    "Z = pca.transform(Xs)\n",
    "\n",
    "\n",
    "# Construct the PCA object"
   ]
  },
  {
   "cell_type": "markdown",
   "metadata": {},
   "source": [
    "In the transformed basis, each data sample is represented by a two dimensional vector, `Z[i,0], Z[i,1]`.  Plot a scatter plot of the transformed data.  Use different marker colors for the different classes.  If you did everything, you should see that the classes are quite well separated with even two PCs."
   ]
  },
  {
   "cell_type": "code",
   "execution_count": 6,
   "metadata": {},
   "outputs": [
    {
     "data": {
      "text/plain": [
       "<matplotlib.collections.PathCollection at 0x189a39194a8>"
      ]
     },
     "execution_count": 6,
     "metadata": {},
     "output_type": "execute_result"
    },
    {
     "data": {
      "image/png": "[encoded data removed]",
      "text/plain": [
       "<Figure size 432x288 with 1 Axes>"
      ]
     },
     "metadata": {},
     "output_type": "display_data"
    }
   ],
   "source": [
    "# TODO\n",
    "class1=(y==0)\n",
    "class2=(y==1)\n",
    "class3=(y==2)\n",
    "\n",
    "plt.scatter(Z[class1,0],Z[class1,1],marker=\"o\")\n",
    "plt.scatter(Z[class2,0],Z[class2,1],marker=\"*\")\n",
    "plt.scatter(Z[class3,0],Z[class3,1],marker=\"x\")"
   ]
  },
  {
   "cell_type": "markdown",
   "metadata": {},
   "source": [
    "Now, refit the scaled data `Xs` using `n_components=nfeatures` where `nfeatures` is the number of features.  This is the maximum number of PCs.  Get the singular values from `pca.singular_values_` and plot the portion of variation as a function of the number of PCs.   The PoV for using `n` PCs is:\n",
    "\n",
    "    PoV[n]  = \\sum_{i=0}^{n-1}  s[i]**2 / \\sum_{i=0}^{d-1}  s[i]**2\n",
    "    \n",
    "where `s[i]` is the `i`-th singular value and `d` is the number of features.  You should see that the 4 PCs contains more than 70% of the variance."
   ]
  },
  {
   "cell_type": "code",
   "execution_count": 17,
   "metadata": {},
   "outputs": [
    {
     "data": {
      "image/png": "[encoded data removed]",
      "text/plain": [
       "<Figure size 432x288 with 1 Axes>"
      ]
     },
     "metadata": {},
     "output_type": "display_data"
    }
   ],
   "source": [
    "# TODO\n",
    "pca = PCA(n_components=n_features, svd_solver='randomized', whiten=True)\n",
    "pca.fit(Xs)\n",
    "s = pca.singular_values_\n",
    "\n",
    "\n",
    "# Fit the PCA components on the entire dataset\n",
    "\n",
    "Z = pca.transform(Xs)\n",
    "\n",
    "lam=s**2\n",
    "PoV=np.cumsum(lam)/np.sum(lam)\n",
    "plt.plot(PoV)\n",
    "plt.grid()\n"
   ]
  },
  {
   "cell_type": "markdown",
   "metadata": {},
   "source": [
    "## Using PCA with Classification \n",
    "\n",
    "We will now use data scaling and PCA as a pre-processing step for logistic classification.  The number of PCs to use can be found with cross-validation.  Complete the code below which tries different number of PCs components to use and measures the test accuracy for each value."
   ]
  },
  {
   "cell_type": "code",
   "execution_count": 18,
   "metadata": {},
   "outputs": [
    {
     "name": "stdout",
     "output_type": "stream",
     "text": [
      "[[0.91666667 0.94444444 0.88888889 0.91428571 0.97142857]\n",
      " [0.86111111 0.94444444 0.88888889 0.94285714 0.97142857]\n",
      " [0.86111111 0.97222222 0.88888889 0.97142857 0.97142857]\n",
      " [0.86111111 0.88888889 0.91666667 0.97142857 0.94285714]\n",
      " [0.94444444 0.91666667 0.91666667 0.94285714 0.94285714]\n",
      " [0.97222222 0.94444444 0.91666667 0.94285714 0.97142857]\n",
      " [0.97222222 0.94444444 0.91666667 0.94285714 0.97142857]\n",
      " [0.94444444 0.91666667 0.94444444 0.94285714 1.        ]\n",
      " [0.94444444 0.88888889 0.91666667 0.97142857 1.        ]\n",
      " [0.97222222 0.91666667 0.91666667 0.97142857 1.        ]]\n"
     ]
    }
   ],
   "source": [
    "from sklearn.preprocessing import StandardScaler\n",
    "from sklearn.linear_model import LogisticRegression\n",
    "nfold = 5\n",
    "\n",
    "# Create a K-fold object\n",
    "kf = KFold(n_splits=nfold)\n",
    "kf.get_n_splits(X)\n",
    "\n",
    "# Number of PCs to try\n",
    "ncomp_test = np.arange(2,12)\n",
    "num_nc = len(ncomp_test)\n",
    "\n",
    "# Accuracy:  acc[icomp,ifold]  is test accuracy when using `ncomp = ncomp_test[icomp]` in fold `ifold`.\n",
    "acc = np.zeros((num_nc,nfold))\n",
    "\n",
    "# Loop over number of components to test\n",
    "for icomp, ncomp in enumerate(ncomp_test):\n",
    "    \n",
    "    # Look over the folds\n",
    "    for ifold, I in enumerate(kf.split(X)):\n",
    "        Itr, Its = I\n",
    "\n",
    "        # TODO:  Split data into training \n",
    "        # Xtr, Xts, ytr, yts = ...\n",
    "        Xtr=X[Itr]\n",
    "        ytr=y[Itr]\n",
    "        Xts=X[Its]\n",
    "        yts=y[Its]\n",
    "        \n",
    "        # TODO:  Create a scaling object and fit the scaling on the training data\n",
    "        scaler = StandardScaler()\n",
    "        scaler.fit(Xtr)\n",
    "        Xtr_s = scaler.transform(Xtr)\n",
    "        \n",
    "        \n",
    "     # TODO:  Fit the PCA on the scaled training data\n",
    "        pca = PCA(n_components=ncomp, svd_solver='randomized', whiten = True)\n",
    "        pca.fit(Xtr_s)\n",
    "        Z = pca.transform(Xtr_s)\n",
    "        \n",
    "        # TODO:  Train a classifier on the transformed training data\n",
    "        # Use a logistic regression classifier\n",
    "        #   logreg = LogisticRegression(multi_class='auto', solver='lbfgs')\n",
    "        logreg = LogisticRegression(multi_class='auto', solver='lbfgs')\n",
    "        logreg.fit(Z, ytr)\n",
    "        \n",
    "        \n",
    "        # TODO:  Transform the test data through data scaler and PCA\n",
    "        Xts_s = scaler.transform(Xts)\n",
    "        Z = pca.transform(Xts_s)\n",
    "\n",
    "        # TODO:  Predict the labels the test data\n",
    "        yhat = logreg.predict(Z)\n",
    "        \n",
    "        # TODO:  Measure the accuracy \n",
    "        #    acc[icomp, ifold] = ...\n",
    "        acci = np.mean(yhat == yts)\n",
    "        acc[icomp,ifold] = acci\n",
    "print(acc)"
   ]
  },
  {
   "cell_type": "markdown",
   "metadata": {},
   "source": [
    "Use the `plt.errorbar` function to plot the mean accuracy with error bars corresponding to the standard error of the accuracy as a function of the number of components.  Find the optimal number of PCs to use according to the normal rule and one SE rule.  If you did it correctly, you should get an accuracy of around 96%."
   ]
  },
  {
   "cell_type": "code",
   "execution_count": 19,
   "metadata": {},
   "outputs": [
    {
     "name": "stdout",
     "output_type": "stream",
     "text": [
      "[0.92714286 0.92174603 0.93301587 0.91619048 0.93269841 0.94952381\n",
      " 0.94952381 0.94968254 0.94428571 0.95539683]\n",
      "The selected number of components is 11\n",
      "The selected number of components is 11\n"
     ]
    },
    {
     "data": {
      "image/png": "[encoded data removed]",
      "text/plain": [
       "<Figure size 432x288 with 1 Axes>"
      ]
     },
     "metadata": {},
     "output_type": "display_data"
    }
   ],
   "source": [
    "# TODO:\n",
    "acc_mean = np.mean(acc,axis=1) #note mean is taken over the second dimension,\n",
    "acc_se = np.std(acc,axis=1)/np.sqrt(nfold-1)\n",
    "plt.errorbar(ncomp_test, acc_mean, yerr=acc_se, fmt='-')\n",
    "plt.xlabel('number of components')\n",
    "plt.ylabel('accuracy mean')\n",
    "plt.grid()\n",
    "print(acc_mean)\n",
    "\n",
    "# TODO: Optimal order with the normal rule\n",
    "imax = np.argmax(acc_mean)\n",
    "print(\"The selected number of components is {0:d}\".format(ncomp_test[imax]))\n",
    "\n",
    "# TODO: Optimal order with one SE rule\n",
    "imax = np.argmax(acc_mean)\n",
    "acc_tgt = acc_mean[imax] + acc_se[imax]\n",
    "I = np.where(acc_mean <= acc_tgt)[0]\n",
    "iopt = I[-1]\n",
    "ncomp_opt = ncomp_test[iopt]\n",
    "print(\"The selected number of components is {0:d}\".format(ncomp_opt))"
   ]
  },
  {
   "cell_type": "markdown",
   "metadata": {},
   "source": [
    "## Hyper-Parameter Optimization with GridCV.\n",
    "\n",
    "We will now try a more complex classifier -- a support vector classifier with a radial basis function.  When we use such a classifer, there will be a number of parameters to tune.  When the number of parameters to tune becomes large, writing a loop over multiple parameters as we did above becomes cumbersome.  The `sklearn` package has a very nice routine, `GridSearchCV` to perform this sort of parameter search.  \n",
    "\n",
    "Before, we do this we need to create an estimator `Pipeline`.  An estimator pipeline is a sequence of transformations followed by an estimator that will operate on the transformed data.  Create the following pipeline:\n",
    "\n",
    "*  Create a `StandardScaler()` object called `scaler` for the first transformation\n",
    "*  Create a `PCA()` object called `pca` for the second transformation\n",
    "*  Create a `SVC()` object called `svc` for the final SVM classifier.  Set the parameter `kernel='rbf'`.\n",
    "\n",
    "Once you have the three steps defined, you can create the pipeline with the command:\n",
    "    \n",
    "    pipe = Pipeline(steps=[('scaler', scaler), ('pca', pca), ('svc', svc)])"
   ]
  },
  {
   "cell_type": "code",
   "execution_count": 20,
   "metadata": {},
   "outputs": [],
   "source": [
    "from sklearn.pipeline import Pipeline\n",
    "from sklearn.model_selection import GridSearchCV\n",
    "from sklearn.svm import SVC\n",
    "\n",
    "# TODO\n",
    "scaler = StandardScaler()\n",
    "pca = PCA()\n",
    "svc = SVC()\n",
    "pipe = Pipeline(steps=[('scaler', scaler), ('pca', pca), ('svc', svc)])"
   ]
  },
  {
   "cell_type": "markdown",
   "metadata": {},
   "source": [
    "We next define all the parameters that we want to search over.  Define the following arrays:\n",
    "\n",
    "*  `ncomp_test`:  values from 3 to 10 representing number of PCs to test\n",
    "*  `C_test`:  values of `C` in the SVC to test.  Use `10^{-2}, 10^{-1}, ... ,10^{3}` \n",
    "*  `gam_test`:  values of `gamma` in the SVC to test.  Use `10^{-3}, 10^{-2}, ... ,10^{1}` "
   ]
  },
  {
   "cell_type": "code",
   "execution_count": 21,
   "metadata": {},
   "outputs": [],
   "source": [
    "# TODO\n",
    "ncomp_test = np.arange(3,10)\n",
    "c_test = [10**(-2),10**(-1),10**(0),10**(1),10**(2),10**(3)]\n",
    "gam_test = [10**(-3),10**(-2),10**(-1),10**(0),10**(1)]"
   ]
  },
  {
   "cell_type": "markdown",
   "metadata": {},
   "source": [
    "Next, we create a dictionary `params` of the form:\n",
    "\n",
    "    params =  {'pca__n_components': ncomp_test, 'svc__C' : c_test, ...}\n",
    "    \n",
    "Each key in the dictionary is the of the form `estimator__param` and the value is the values to be tested."
   ]
  },
  {
   "cell_type": "code",
   "execution_count": 26,
   "metadata": {},
   "outputs": [],
   "source": [
    "params = {'pca__n_components' : ncomp_test, 'svc__C' : c_test, 'svc__gamma' : gam_test }"
   ]
  },
  {
   "cell_type": "markdown",
   "metadata": {},
   "source": [
    "Finally, an object `estimator = GridSearchCV(...)` from  `pipe` and `params`.  Set `cv=5`, `train_score=True` and `iid=False`.  Fit the estimator from the data `X,y`.  Then the estimator will perform the cross-validation over all the parameters.  This may take a minute since we are search over so many parameters."
   ]
  },
  {
   "cell_type": "code",
   "execution_count": 28,
   "metadata": {},
   "outputs": [
    {
     "data": {
      "text/plain": [
       "GridSearchCV(cv=5, error_score='raise-deprecating',\n",
       "             estimator=Pipeline(memory=None,\n",
       "                                steps=[('scaler',\n",
       "                                        StandardScaler(copy=True,\n",
       "                                                       with_mean=True,\n",
       "                                                       with_std=True)),\n",
       "                                       ('pca',\n",
       "                                        PCA(copy=True, iterated_power='auto',\n",
       "                                            n_components=None,\n",
       "                                            random_state=None,\n",
       "                                            svd_solver='auto', tol=0.0,\n",
       "                                            whiten=False)),\n",
       "                                       ('svc',\n",
       "                                        SVC(C=1.0, cache_size=200,\n",
       "                                            class_weight=None, coef0=0.0,\n",
       "                                            decision_functio...\n",
       "                                            degree=3, gamma='auto_deprecated',\n",
       "                                            kernel='rbf', max_iter=-1,\n",
       "                                            probability=False,\n",
       "                                            random_state=None, shrinking=True,\n",
       "                                            tol=0.001, verbose=False))],\n",
       "                                verbose=False),\n",
       "             iid=False, n_jobs=None,\n",
       "             param_grid={'pca__n_components': array([3, 4, 5, 6, 7, 8, 9]),\n",
       "                         'svc__C': [0.01, 0.1, 1, 10, 100, 1000],\n",
       "                         'svc__gamma': [0.001, 0.01, 0.1, 1, 10]},\n",
       "             pre_dispatch='2*n_jobs', refit=True, return_train_score=True,\n",
       "             scoring=None, verbose=0)"
      ]
     },
     "execution_count": 28,
     "metadata": {},
     "output_type": "execute_result"
    }
   ],
   "source": [
    "# TODO\n",
    "estimator = GridSearchCV(pipe, params, cv=5, return_train_score=True , iid=False)\n",
    "estimator.fit(X,y)"
   ]
  },
  {
   "cell_type": "markdown",
   "metadata": {},
   "source": [
    "Print the best test score and best parameters.  They are fields in `estimator`.  If you did it correctly, it should be a little higher than the logistic regression (about 0.97 to 0.98 accuracy)."
   ]
  },
  {
   "cell_type": "code",
   "execution_count": 32,
   "metadata": {},
   "outputs": [
    {
     "name": "stdout",
     "output_type": "stream",
     "text": [
      "Pipeline(memory=None,\n",
      "         steps=[('scaler',\n",
      "                 StandardScaler(copy=True, with_mean=True, with_std=True)),\n",
      "                ('pca',\n",
      "                 PCA(copy=True, iterated_power='auto', n_components=5,\n",
      "                     random_state=None, svd_solver='auto', tol=0.0,\n",
      "                     whiten=False)),\n",
      "                ('svc',\n",
      "                 SVC(C=1, cache_size=200, class_weight=None, coef0=0.0,\n",
      "                     decision_function_shape='ovr', degree=3, gamma=0.1,\n",
      "                     kernel='rbf', max_iter=-1, probability=False,\n",
      "                     random_state=None, shrinking=True, tol=0.001,\n",
      "                     verbose=False))],\n",
      "         verbose=False)\n",
      "{'pca__n_components': 5, 'svc__C': 1, 'svc__gamma': 0.1}\n",
      "0.978078078078078\n",
      "Best Estimator: \n",
      "Pipeline(memory=None,\n",
      "         steps=[('scaler',\n",
      "                 StandardScaler(copy=True, with_mean=True, with_std=True)),\n",
      "                ('pca',\n",
      "                 PCA(copy=True, iterated_power='auto', n_components=5,\n",
      "                     random_state=None, svd_solver='auto', tol=0.0,\n",
      "                     whiten=False)),\n",
      "                ('svc',\n",
      "                 SVC(C=1, cache_size=200, class_weight=None, coef0=0.0,\n",
      "                     decision_function_shape='ovr', degree=3, gamma=0.1,\n",
      "                     kernel='rbf', max_iter=-1, probability=False,\n",
      "                     random_state=None, shrinking=True, tol=0.001,\n",
      "                     verbose=False))],\n",
      "         verbose=False)\n",
      "\n",
      "Best Parameters: \n",
      "{'pca__n_components': 5, 'svc__C': 1, 'svc__gamma': 0.1}\n",
      "\n",
      "Best Test Score: \n",
      "0.978078078078078\n",
      "\n",
      "Best Training Score: \n",
      "[0.39888295 0.39888295 0.39888295 0.39888295 0.39888295 0.39888295\n",
      " 0.79653517 0.97333669 0.74869584 0.39888295 0.87652511 0.96491567\n",
      " 0.98032997 0.98736279 0.99859155 0.96349737 0.98173856 0.98033996\n",
      " 0.99717311 1.         0.97616358 0.97756218 0.99296718 1.\n",
      " 1.         0.97334668 0.98598375 0.99858156 1.         1.\n",
      " 0.39888295 0.39888295 0.39888295 0.39888295 0.39888295 0.39888295\n",
      " 0.79229012 0.97751307 0.48176693 0.39888295 0.88355793 0.97188939\n",
      " 0.9830979  0.99859155 1.         0.96486642 0.98873184 0.99439533\n",
      " 0.99859155 1.         0.98170928 0.98594449 0.99859155 1.\n",
      " 1.         0.98454589 0.99720266 1.         1.         1.\n",
      " 0.39888295 0.39888295 0.39888295 0.39888295 0.39888295 0.39888295\n",
      " 0.78667588 0.97895134 0.39888295 0.39888295 0.88772404 0.99157857\n",
      " 0.99297717 1.         1.         0.98316712 0.99156872 1.\n",
      " 1.         1.         0.99016027 0.99720266 1.         1.\n",
      " 1.         0.99440546 1.         1.         1.         1.\n",
      " 0.39888295 0.39888295 0.39888295 0.39888295 0.39888295 0.39888295\n",
      " 0.78385884 0.98456545 0.39888295 0.39888295 0.88634542 0.98738263\n",
      " 0.99580406 1.         1.         0.98738263 0.99157857 1.\n",
      " 1.         1.         0.98599374 0.99580406 1.         1.\n",
      " 1.         0.99580406 1.         1.         1.         1.\n",
      " 0.39888295 0.39888295 0.39888295 0.39888295 0.39888295 0.39888295\n",
      " 0.77401896 0.98316685 0.39888295 0.39888295 0.88491713 0.98879108\n",
      " 0.99580406 1.         1.         0.98738263 0.99160812 1.\n",
      " 1.         1.         0.98738263 0.99580406 1.         1.\n",
      " 1.         0.99580406 1.         1.         1.         1.\n",
      " 0.39888295 0.39888295 0.39888295 0.39888295 0.39888295 0.39888295\n",
      " 0.76978362 0.98458515 0.39888295 0.39888295 0.88632558 0.99017997\n",
      " 0.99580406 1.         1.         0.98738263 0.99299701 1.\n",
      " 1.         1.         0.98738263 0.99719295 1.         1.\n",
      " 1.         0.99580406 1.         1.         1.         1.\n",
      " 0.39888295 0.39888295 0.39888295 0.39888295 0.39888295 0.39888295\n",
      " 0.76839473 0.97759187 0.39888295 0.39888295 0.89052152 0.99157857\n",
      " 0.99580406 1.         1.         0.99298702 0.99299701 1.\n",
      " 1.         1.         0.99157857 1.         1.         1.\n",
      " 1.         1.         1.         1.         1.         1.        ]\n",
      "\n"
     ]
    }
   ],
   "source": [
    "# TODO\n",
    "print(estimator.best_estimator_)\n",
    "print(estimator.best_params_)\n",
    "print(estimator.best_score_)\n",
    "print(\"Best Estimator: \\n{}\\n\".format(estimator.best_estimator_))\n",
    "print(\"Best Parameters: \\n{}\\n\".format(estimator.best_params_))\n",
    "print(\"Best Test Score: \\n{}\\n\".format(estimator.best_score_))\n",
    "print(\"Best Training Score: \\n{}\\n\".format(estimator.cv_results_['mean_train_score']))"
   ]
  },
  {
   "cell_type": "markdown",
   "metadata": {},
   "source": [
    "Finally, you can get the test score for all the parameter choices from \n",
    "\n",
    "    test_score = estimator.cv_results_['mean_test_score']\n",
    "    \n",
    "Use the `imshow` command to plot the mean test score over `gamma` and `C` for the value `n_components=5`."
   ]
  },
  {
   "cell_type": "code",
   "execution_count": 30,
   "metadata": {},
   "outputs": [
    {
     "name": "stdout",
     "output_type": "stream",
     "text": [
      "[0.39898958 0.39898958 0.39898958 0.39898958 0.39898958 0.39898958\n",
      " 0.80500139 0.95522952 0.66314558 0.39898958 0.89441012 0.94965604\n",
      " 0.96665809 0.94967396 0.67443334 0.94965604 0.96680824 0.94981477\n",
      " 0.94457743 0.70841093 0.97267267 0.96125268 0.93263608 0.93917203\n",
      " 0.70841093 0.95584728 0.93867716 0.92706261 0.93917203 0.70841093\n",
      " 0.39898958 0.39898958 0.39898958 0.39898958 0.39898958 0.39898958\n",
      " 0.7992871  0.96619048 0.44456381 0.39898958 0.88344916 0.94440937\n",
      " 0.96665809 0.92217857 0.49999495 0.94408257 0.96155298 0.95567921\n",
      " 0.92202841 0.53953744 0.95599743 0.95584728 0.92769829 0.92202841\n",
      " 0.53953744 0.93963106 0.9502738  0.92769829 0.92202841 0.53953744\n",
      " 0.39898958 0.39898958 0.39898958 0.39898958 0.39898958 0.39898958\n",
      " 0.78277059 0.96634063 0.39898958 0.39898958 0.86644712 0.96648144\n",
      " 0.97807808 0.90535317 0.43281702 0.95536175 0.96695839 0.95630631\n",
      " 0.90535317 0.44425493 0.96186186 0.95059202 0.95042395 0.90535317\n",
      " 0.44425493 0.97236379 0.95645646 0.95042395 0.90535317 0.44425493\n",
      " 0.39898958 0.39898958 0.39898958 0.39898958 0.39898958 0.39898958\n",
      " 0.7770563  0.97190476 0.39898958 0.39898958 0.86073283 0.97219573\n",
      " 0.97237237 0.84849976 0.41042749 0.96679032 0.96123476 0.96156156\n",
      " 0.85438211 0.42710273 0.97219573 0.96156156 0.96156156 0.85438211\n",
      " 0.42710273 0.95568855 0.97267267 0.96156156 0.85438211 0.42710273\n",
      " 0.39898958 0.39898958 0.39898958 0.39898958 0.39898958 0.39898958\n",
      " 0.76624549 0.97761905 0.39898958 0.39898958 0.85517728 0.97219573\n",
      " 0.97777778 0.79258233 0.39898958 0.96679032 0.97267267 0.96696697\n",
      " 0.80942564 0.40470386 0.97252252 0.97267267 0.96696697 0.80942564\n",
      " 0.40470386 0.96711712 0.97267267 0.96696697 0.80942564 0.40470386\n",
      " 0.39898958 0.39898958 0.39898958 0.39898958 0.39898958 0.39898958\n",
      " 0.7605312  0.96680824 0.39898958 0.39898958 0.87169379 0.97219573\n",
      " 0.97777778 0.75334948 0.39898958 0.96679032 0.96679032 0.96156156\n",
      " 0.77050168 0.39898958 0.96679032 0.97267267 0.96156156 0.77050168\n",
      " 0.39898958 0.96123476 0.97267267 0.96156156 0.77050168 0.39898958\n",
      " 0.39898958 0.39898958 0.39898958 0.39898958 0.39898958 0.39898958\n",
      " 0.7605312  0.97206349 0.39898958 0.39898958 0.87169379 0.97219573\n",
      " 0.97777778 0.73667424 0.39898958 0.96138491 0.97234588 0.96696697\n",
      " 0.74827088 0.39898958 0.96679032 0.97234588 0.96696697 0.74827088\n",
      " 0.39898958 0.95550256 0.97234588 0.96696697 0.74827088 0.39898958]\n"
     ]
    },
    {
     "data": {
      "text/plain": [
       "<matplotlib.image.AxesImage at 0x189a4bebe80>"
      ]
     },
     "execution_count": 30,
     "metadata": {},
     "output_type": "execute_result"
    },
    {
     "data": {
      "image/png": "[encoded data removed]",
      "text/plain": [
       "<Figure size 432x288 with 1 Axes>"
      ]
     },
     "metadata": {},
     "output_type": "display_data"
    }
   ],
   "source": [
    "# TODO\n",
    "test_score = estimator.cv_results_['mean_test_score']\n",
    "print(test_score)\n",
    "gam_test = np.array(gam_test)\n",
    "gam_test = gam_test.reshape(5,1)\n",
    "test_score = test_score.reshape(210,1)\n",
    "plt.imshow(test_score.transpose() * gam_test)"
   ]
  },
  {
   "cell_type": "code",
   "execution_count": null,
   "metadata": {},
   "outputs": [],
   "source": []
  },
  {
   "cell_type": "code",
   "execution_count": null,
   "metadata": {},
   "outputs": [],
   "source": []
  }
 ],
 "metadata": {
  "kernelspec": {
   "display_name": "Python 3",
   "language": "python",
   "name": "python3"
  },
  "language_info": {
   "codemirror_mode": {
    "name": "ipython",
    "version": 3
   },
   "file_extension": ".py",
   "mimetype": "text/x-python",
   "name": "python",
   "nbconvert_exporter": "python",
   "pygments_lexer": "ipython3",
   "version": "3.6.3"
  }
 },
 "nbformat": 4,
 "nbformat_minor": 2
}
