{
 "cells": [
  {
   "cell_type": "markdown",
   "metadata": {},
   "source": [
    "# LASSO Regression In-Class Exercise\n",
    "\n",
    "In this exercise, we will see how to use LASSO for pitch detection and noise removal in audio.\n",
    "\n",
    "We load the following packages."
   ]
  },
  {
   "cell_type": "code",
   "execution_count": 2,
   "metadata": {},
   "outputs": [],
   "source": [
    "import numpy as np\n",
    "import matplotlib.pyplot as plt\n",
    "import pickle"
   ]
  },
  {
   "cell_type": "markdown",
   "metadata": {},
   "source": [
    "## Load the Data\n",
    "\n",
    "The data is taken from a sample of about 20 ms of audio from a viola.  I have already pre-processed the data.  You can load it with the following command.  The value `t` is the time (in seconds) and `y` is the sample of audio (this is a mono recording).  Noise has been artificially added to the sample."
   ]
  },
  {
   "cell_type": "code",
   "execution_count": 3,
   "metadata": {},
   "outputs": [
    {
     "name": "stdout",
     "output_type": "stream",
     "text": [
      "File viola_sample.p downloaded\n"
     ]
    }
   ],
   "source": [
    "fn_src = 'https://raw.githubusercontent.com/sdrangan/introml/master/unit05_lasso/viola_sample.p'\n",
    "fn_dst = 'viola_sample.p'\n",
    "\n",
    "import os\n",
    "from six.moves import urllib\n",
    "\n",
    "if os.path.isfile(fn_dst):\n",
    "    print('File %s is already downloaded' % fn_dst)\n",
    "else:        \n",
    "    urllib.request.urlretrieve(fn_src, fn_dst)\n",
    "    print('File %s downloaded' % fn_dst)\n",
    "\n",
    "with open(fn_dst,'rb') as fp:\n",
    "    t,y = pickle.load(fp)"
   ]
  },
  {
   "cell_type": "markdown",
   "metadata": {},
   "source": [
    "Plot the data `y` vs. `t`.  "
   ]
  },
  {
   "cell_type": "code",
   "execution_count": 4,
   "metadata": {
    "scrolled": false
   },
   "outputs": [
    {
     "data": {
      "image/png": "[encoded data removed]",
      "text/plain": [
       "<Figure size 432x288 with 1 Axes>"
      ]
     },
     "metadata": {},
     "output_type": "display_data"
    }
   ],
   "source": [
    "# TODO\n",
    "plt.plot(t,y,'o')\n",
    "plt.xlabel('t')\n",
    "plt.ylabel('y')\n",
    "plt.grid()\n",
    "plt.show()"
   ]
  },
  {
   "cell_type": "markdown",
   "metadata": {},
   "source": [
    "## Creating Features for a Sinusoidal Model\n",
    "\n",
    "We will try to fit a model of the form:\n",
    "\n",
    "    y[i] = \\sum_j a[j]*sin(2*pi*freq[j]*t[i]) + b[j]*cos(2*pi*freq[j]*t[i])\n",
    "\n",
    "That is, `y[i]` is a sum of sinusoids.  This is a common model for audio signals since an instrument, such as a viola, produces discrete tones.  \n",
    "\n",
    "This model is non-linear in the frequency parameters.  So, instead of trying to find the frequencies, we will fix a large number of frequencies and then require that the coefficients `a[j]` and `b[j]` are mostly sparse.  \n",
    "\n",
    "We will use the following vector of frequencies.  This vector includes frequencies on the muscial scale as well as frequencies between the musical notes."
   ]
  },
  {
   "cell_type": "code",
   "execution_count": 7,
   "metadata": {},
   "outputs": [],
   "source": [
    "freq = 55*2**(np.arange(5*96)/96)"
   ]
  },
  {
   "cell_type": "markdown",
   "metadata": {},
   "source": [
    "To fit the sinusoidal model, we will write a function to map the values `t` to \n",
    "the `sin` and `cos` features.  Finish the function `transform` that creates matrices:\n",
    "\n",
    "    Xcos[i,j] = np.cos(2*np.pi*t[i]*freq[j])\n",
    "    Xsin[i,j] = np.sin(2*np.pi*t[i]*freq[j])\n",
    "    X = np.hstack((Xcos,Xsin))\n",
    "    \n",
    "So, if `freq` is length `d`, there will `2*d` features.  You can try to create the matrices using python broadcasting if you want to avoid a for loop.    "
   ]
  },
  {
   "cell_type": "code",
   "execution_count": 16,
   "metadata": {},
   "outputs": [],
   "source": [
    "def transform(t,freq):\n",
    "    # TODO\n",
    "    #Xcos[i,j] = np.cos(2*np.pi*t[i]*freq[j])\n",
    "    #Xsin[i,j] = np.sin(2*np.pi*t[i]*freq[j])\n",
    "    Xcos = []\n",
    "    Xsin = []\n",
    "    for i in t:\n",
    "        cosplace = []\n",
    "        sinplace = []\n",
    "        for j in freq:\n",
    "            cosplace.append(np.cos(2*np.pi*i*j))\n",
    "            sinplace.append(np.sin(2*np.pi*i*j))\n",
    "        Xcos.append(cosplace)\n",
    "        Xsin.append(sinplace)\n",
    "        \n",
    "    X = np.hstack((Xcos,Xsin))    \n",
    "    return X"
   ]
  },
  {
   "cell_type": "markdown",
   "metadata": {},
   "source": [
    "Split the data `t` and `y` into training and test.  Use approximately 50% for each set."
   ]
  },
  {
   "cell_type": "code",
   "execution_count": 17,
   "metadata": {},
   "outputs": [],
   "source": [
    "from sklearn.model_selection import train_test_split\n",
    "\n",
    "# TODO\n",
    "# ttr, tts, ytr, yts = train_test_split(...)\n",
    "ttr, tts, ytr, yts = train_test_split(t,y,test_size=0.5, random_state=1)"
   ]
  },
  {
   "cell_type": "markdown",
   "metadata": {},
   "source": [
    "Transform the `ttr`, `tts` into `Xtr` and `Xts`."
   ]
  },
  {
   "cell_type": "code",
   "execution_count": 19,
   "metadata": {},
   "outputs": [],
   "source": [
    "# TODO\n",
    "Xtr=transform(t,freq)[0]\n",
    "Xts=transform(t,freq)[1]"
   ]
  },
  {
   "cell_type": "markdown",
   "metadata": {},
   "source": [
    "## Use LASSO to Find the Frequencies\n",
    "\n",
    "We can now use LASSO regression to find the model\n",
    "* Use LASSO regression with `alpha=500` to fit the model.  \n",
    "* Find the R^2-score on the test data.\n",
    "* Plot the predicted value of `y` for `t in [0,0.02]`."
   ]
  },
  {
   "cell_type": "code",
   "execution_count": 107,
   "metadata": {},
   "outputs": [],
   "source": [
    "from sklearn.linear_model import Lasso\n",
    "\n",
    "# TODO\n",
    "# regr = Lasso(...)"
   ]
  },
  {
   "cell_type": "markdown",
   "metadata": {},
   "source": [
    "Recall that you can find the coefficient in the model via `w = regr.coef_`.  If `freq` has `d` terms, then `w` will have `2*d` terms.\n",
    "* Split the coefficients `w` into `a` and `b`, the terms for the `cos` and `sin` features.\n",
    "* Plot `a` and `b` using `plt.stem`.\n",
    "* Which frequencies is dominant in this track?\n"
   ]
  },
  {
   "cell_type": "code",
   "execution_count": 9,
   "metadata": {},
   "outputs": [],
   "source": [
    "# TODO"
   ]
  },
  {
   "cell_type": "markdown",
   "metadata": {},
   "source": [
    "Still have time...\n",
    "* Find the optimal `alpha` using cross-validation"
   ]
  },
  {
   "cell_type": "code",
   "execution_count": null,
   "metadata": {},
   "outputs": [],
   "source": []
  }
 ],
 "metadata": {
  "kernelspec": {
   "display_name": "Python 3",
   "language": "python",
   "name": "python3"
  },
  "language_info": {
   "codemirror_mode": {
    "name": "ipython",
    "version": 3
   },
   "file_extension": ".py",
   "mimetype": "text/x-python",
   "name": "python",
   "nbconvert_exporter": "python",
   "pygments_lexer": "ipython3",
   "version": "3.6.3"
  }
 },
 "nbformat": 4,
 "nbformat_minor": 2
}
