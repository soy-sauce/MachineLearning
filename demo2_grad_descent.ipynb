{
 "cells": [
  {
   "cell_type": "markdown",
   "metadata": {},
   "source": [
    "# Demo:  Gradient Descent Optimization\n",
    "\n",
    "In the [breast cancer demo](../logistic/breast_cancer.ipynb), we used the `sklearn` built-in `LogisticRegression` class to find the weights for the logistic regression problem.   The `fit` routine in that class has an *optimizer* to select the weights to best match the data.  To understand how that optimizer works, in this demo, we will build a very simple gradient descent optimizer from scratch.  You will learn to:\n",
    "* Compute the gradients of a simple loss function and implement the gradient calculations in python\n",
    "* Implement a simple gradient descent optimizer\n",
    "* Visualize the effect of the learning rate in gradient descent\n",
    "* Implement an adaptive learning rate algorithm"
   ]
  },
  {
   "cell_type": "markdown",
   "metadata": {},
   "source": [
    "## Loading the Breast Cancer Data\n",
    "\n",
    "We first load the standard packages."
   ]
  },
  {
   "cell_type": "code",
   "execution_count": 1,
   "metadata": {},
   "outputs": [],
   "source": [
    "import numpy as np\n",
    "import matplotlib.pyplot as plt\n",
    "import pandas as pd\n",
    "%matplotlib inline\n",
    "from sklearn import preprocessing"
   ]
  },
  {
   "cell_type": "markdown",
   "metadata": {},
   "source": [
    "We next load the data from the [breast cancer demo](../logistic/breast_cancer.ipynb).  "
   ]
  },
  {
   "cell_type": "code",
   "execution_count": 2,
   "metadata": {},
   "outputs": [
    {
     "data": {
      "text/html": [
       "<div>\n",
       "<style scoped>\n",
       "    .dataframe tbody tr th:only-of-type {\n",
       "        vertical-align: middle;\n",
       "    }\n",
       "\n",
       "    .dataframe tbody tr th {\n",
       "        vertical-align: top;\n",
       "    }\n",
       "\n",
       "    .dataframe thead th {\n",
       "        text-align: right;\n",
       "    }\n",
       "</style>\n",
       "<table border=\"1\" class=\"dataframe\">\n",
       "  <thead>\n",
       "    <tr style=\"text-align: right;\">\n",
       "      <th></th>\n",
       "      <th>id</th>\n",
       "      <th>thick</th>\n",
       "      <th>size_unif</th>\n",
       "      <th>shape_unif</th>\n",
       "      <th>marg</th>\n",
       "      <th>cell_size</th>\n",
       "      <th>bare</th>\n",
       "      <th>chrom</th>\n",
       "      <th>normal</th>\n",
       "      <th>mit</th>\n",
       "      <th>class</th>\n",
       "    </tr>\n",
       "  </thead>\n",
       "  <tbody>\n",
       "    <tr>\n",
       "      <th>0</th>\n",
       "      <td>1000025</td>\n",
       "      <td>5</td>\n",
       "      <td>1</td>\n",
       "      <td>1</td>\n",
       "      <td>1</td>\n",
       "      <td>2</td>\n",
       "      <td>1.0</td>\n",
       "      <td>3</td>\n",
       "      <td>1</td>\n",
       "      <td>1</td>\n",
       "      <td>2</td>\n",
       "    </tr>\n",
       "    <tr>\n",
       "      <th>1</th>\n",
       "      <td>1002945</td>\n",
       "      <td>5</td>\n",
       "      <td>4</td>\n",
       "      <td>4</td>\n",
       "      <td>5</td>\n",
       "      <td>7</td>\n",
       "      <td>10.0</td>\n",
       "      <td>3</td>\n",
       "      <td>2</td>\n",
       "      <td>1</td>\n",
       "      <td>2</td>\n",
       "    </tr>\n",
       "    <tr>\n",
       "      <th>2</th>\n",
       "      <td>1015425</td>\n",
       "      <td>3</td>\n",
       "      <td>1</td>\n",
       "      <td>1</td>\n",
       "      <td>1</td>\n",
       "      <td>2</td>\n",
       "      <td>2.0</td>\n",
       "      <td>3</td>\n",
       "      <td>1</td>\n",
       "      <td>1</td>\n",
       "      <td>2</td>\n",
       "    </tr>\n",
       "    <tr>\n",
       "      <th>3</th>\n",
       "      <td>1016277</td>\n",
       "      <td>6</td>\n",
       "      <td>8</td>\n",
       "      <td>8</td>\n",
       "      <td>1</td>\n",
       "      <td>3</td>\n",
       "      <td>4.0</td>\n",
       "      <td>3</td>\n",
       "      <td>7</td>\n",
       "      <td>1</td>\n",
       "      <td>2</td>\n",
       "    </tr>\n",
       "    <tr>\n",
       "      <th>4</th>\n",
       "      <td>1017023</td>\n",
       "      <td>4</td>\n",
       "      <td>1</td>\n",
       "      <td>1</td>\n",
       "      <td>3</td>\n",
       "      <td>2</td>\n",
       "      <td>1.0</td>\n",
       "      <td>3</td>\n",
       "      <td>1</td>\n",
       "      <td>1</td>\n",
       "      <td>2</td>\n",
       "    </tr>\n",
       "  </tbody>\n",
       "</table>\n",
       "</div>"
      ],
      "text/plain": [
       "        id  thick  size_unif  shape_unif  marg  cell_size  bare  chrom  \\\n",
       "0  1000025      5          1           1     1          2   1.0      3   \n",
       "1  1002945      5          4           4     5          7  10.0      3   \n",
       "2  1015425      3          1           1     1          2   2.0      3   \n",
       "3  1016277      6          8           8     1          3   4.0      3   \n",
       "4  1017023      4          1           1     3          2   1.0      3   \n",
       "\n",
       "   normal  mit  class  \n",
       "0       1    1      2  \n",
       "1       2    1      2  \n",
       "2       1    1      2  \n",
       "3       7    1      2  \n",
       "4       1    1      2  "
      ]
     },
     "execution_count": 2,
     "metadata": {},
     "output_type": "execute_result"
    }
   ],
   "source": [
    "names = ['id','thick','size_unif','shape_unif','marg','cell_size','bare',\n",
    "         'chrom','normal','mit','class']\n",
    "df = pd.read_csv('https://archive.ics.uci.edu/ml/machine-learning-databases/' +\n",
    "                 'breast-cancer-wisconsin/breast-cancer-wisconsin.data',\n",
    "                names=names,na_values='?',header=None)\n",
    "df = df.dropna()\n",
    "df.head()"
   ]
  },
  {
   "cell_type": "markdown",
   "metadata": {},
   "source": [
    "As in the breast cancer demo, we create a data matrix `X` of various features of the breast cancer sample.  The response vector `y` is a binary indicating if each sample is benign or malignant.  "
   ]
  },
  {
   "cell_type": "code",
   "execution_count": 3,
   "metadata": {},
   "outputs": [],
   "source": [
    "# Get the predictors\n",
    "xnames = names[1:-1]\n",
    "X = np.array(df[xnames])\n",
    "Xs = preprocessing.scale(X)\n",
    "\n",
    "# Get the response.  Convert to a zero-one indicator \n",
    "yraw = np.array(df['class'])\n",
    "BEN_VAL = 2   # value in the 'class' label for benign samples\n",
    "MAL_VAL = 4   # value in the 'class' label for malignant samples\n",
    "y = (yraw == MAL_VAL).astype(int)"
   ]
  },
  {
   "cell_type": "markdown",
   "metadata": {},
   "source": [
    "We want to learn the classification rule to predict `y` from `X`.  To this end, we first split the data into training and test."
   ]
  },
  {
   "cell_type": "code",
   "execution_count": 4,
   "metadata": {},
   "outputs": [],
   "source": [
    "ntr = 400        # number of training samples\n",
    "Xtr = X[:ntr,:]  # training\n",
    "ytr = y[:ntr]\n",
    "Xts = X[ntr:,:]  # test\n",
    "yts = y[ntr:]"
   ]
  },
  {
   "cell_type": "markdown",
   "metadata": {},
   "source": [
    "## Computing the Gradient and Loss Function\n",
    "\n",
    "Recall that training a logistic function means finding a weight vector `w` for the classification rule:\n",
    "\n",
    "    P(y=1|x,w) = 1/(1+\\exp(-z)), z = w[0] + w[1]*x[0] + ... + w[k]x[k-1]\n",
    "    \n",
    "From the class notes in logistic regression, we saw that the weight vector can be found by minimizing  the negative log likelihood.  The negative log likelihood is called the *loss* function.  For the logistic regression problem, the loss function simplifies to:\n",
    "\n",
    "\n",
    "    f(w) = \\sum_i -y[i]z[i] + ln(1+exp(z[i])),  z[i] = w[0] + w[1]X[i,0] + ... + w[k]X[i,k-1].\n",
    "    \n",
    "We first write a function to compute `f` and its gradient `feval`."
   ]
  },
  {
   "cell_type": "code",
   "execution_count": 5,
   "metadata": {},
   "outputs": [],
   "source": [
    "def feval(w,X,y):\n",
    "    \"\"\"\n",
    "    Compute the loss and gradient given w,X,y\n",
    "    \"\"\"\n",
    "    # Construct transform matrix\n",
    "    n = X.shape[0]\n",
    "    A = np.column_stack((np.ones(n,), X))\n",
    "\n",
    "    # The loss is the binary cross entropy\n",
    "    z = A.dot(w)\n",
    "    py = 1/(1+np.exp(-z))\n",
    "    f = np.sum((1-y)*z - np.log(py))\n",
    "\n",
    "    # Gradient\n",
    "    df_dz = py-y\n",
    "    fgrad = A.T.dot(df_dz)\n",
    "    return f, fgrad"
   ]
  },
  {
   "cell_type": "markdown",
   "metadata": {},
   "source": [
    "One issue is that the function `f(w,X,y)` depends on the parameters `X` and `y`.  Most numerical optimizers expect a function that only depends on `w`.  So, we need an alternate way to pass those parameters to the function.  There are two approaches."
   ]
  },
  {
   "cell_type": "markdown",
   "metadata": {},
   "source": [
    "### Method 1.  Use a class method\n",
    "\n",
    "One approach to pass the parameters is to implement the function as a method in a class that contains the parameters.  In the code below, we create a class `LogisticFun` where the constructor takes the parameters `X` and `y`.  Then, the class method `feval` takes a variable `w` and computes the loss and its gradient.  \n",
    "\n",
    "You can see that one benefit of using a class method is that processing that is independent of `w` can be performed in the contructor.  For example, in the code below, constructs `self.A` in the constructor.  Then this step does not need to be repeated every time the function is called."
   ]
  },
  {
   "cell_type": "code",
   "execution_count": 6,
   "metadata": {},
   "outputs": [],
   "source": [
    "class LogisticFun(object):\n",
    "    def __init__(self,X,y):\n",
    "        \"\"\"\n",
    "        Class for computes the loss and gradient for a logistic regression problem.\n",
    "        \n",
    "        The constructor takes the data matrix `X` and response vector y for training.\n",
    "        \"\"\"\n",
    "        self.X = X\n",
    "        self.y = y\n",
    "        n = X.shape[0]\n",
    "        self.A = np.column_stack((np.ones(n,), X))\n",
    "\n",
    "    def feval(self,w):\n",
    "        \"\"\"\n",
    "        Compute the loss and gradient for a given weight vector\n",
    "        \"\"\"\n",
    "        # The loss is the binary cross entropy\n",
    "        z = self.A.dot(w)\n",
    "        py = 1/(1+np.exp(-z))\n",
    "        f = np.sum((1-self.y)*z - np.log(py))\n",
    "        \n",
    "        # Gradient\n",
    "        df_dz = py-self.y\n",
    "        fgrad = self.A.T.dot(df_dz)\n",
    "        return f, fgrad"
   ]
  },
  {
   "cell_type": "markdown",
   "metadata": {},
   "source": [
    "Once we have defined the class we can create an *instance* of the class with the training data."
   ]
  },
  {
   "cell_type": "code",
   "execution_count": 7,
   "metadata": {},
   "outputs": [],
   "source": [
    "log_fun = LogisticFun(Xtr,ytr)"
   ]
  },
  {
   "cell_type": "markdown",
   "metadata": {},
   "source": [
    "Then, we can call the method with only the value `w`."
   ]
  },
  {
   "cell_type": "code",
   "execution_count": 8,
   "metadata": {},
   "outputs": [],
   "source": [
    "# Some random point\n",
    "p = X.shape[1]+1\n",
    "w0 = np.random.randn(p)\n",
    "\n",
    "# Call the function\n",
    "f, fgrad = log_fun.feval(w0)"
   ]
  },
  {
   "cell_type": "markdown",
   "metadata": {},
   "source": [
    "### Method 2.  Using Lambda functions\n",
    "\n",
    "An alternative method is to use python `lambda` functions.  The code below creates uses the `lambda` construction to fix the parameters `X` and `y`.  A slight disadvantage of this method is that the pre-processing is less easy to separate."
   ]
  },
  {
   "cell_type": "code",
   "execution_count": 9,
   "metadata": {},
   "outputs": [],
   "source": [
    "# Create a function with X,y fixed\n",
    "feval_param = lambda w: feval(w,Xtr,ytr)\n",
    "\n",
    "# You can now pass a parameter like w0\n",
    "f0, fgrad0 = feval_param(w0)"
   ]
  },
  {
   "cell_type": "markdown",
   "metadata": {},
   "source": [
    "### Testing the gradient\n",
    "\n",
    "Either way you create the function, it is very important to test if the gradient is correct.  This is the number one reason people's code does not work with numerical optimizers.  The simplest method is to take two points `w0` and `w1` that are close to one another and then verify that \n",
    "\n",
    "    f(w1) - f(w0) \\approx fgrad(w0).dot(w1 - w0)"
   ]
  },
  {
   "cell_type": "code",
   "execution_count": 10,
   "metadata": {},
   "outputs": [
    {
     "name": "stdout",
     "output_type": "stream",
     "text": [
      "Actual f1-f0    =  -4.2560e-03\n",
      "Predicted f1-f0 =  -4.2560e-03\n"
     ]
    }
   ],
   "source": [
    "# Take a random initial point\n",
    "p = X.shape[1]+1\n",
    "w0 = np.random.randn(p)\n",
    "\n",
    "# Perturb the point\n",
    "step = 1e-6\n",
    "w1 = w0 + step*np.random.randn(p)\n",
    "\n",
    "# Measure the function and gradient at w0 and w1\n",
    "f0, fgrad0 = log_fun.feval(w0)\n",
    "f1, fgrad1 = log_fun.feval(w1)\n",
    "\n",
    "# Predict the amount the function should have changed based on the gradient\n",
    "df_est = fgrad0.dot(w1-w0)\n",
    "\n",
    "# Print the two values to see if they are close\n",
    "print(\"Actual f1-f0    = %12.4e\" % (f1-f0))\n",
    "print(\"Predicted f1-f0 = %12.4e\" % df_est)"
   ]
  },
  {
   "cell_type": "markdown",
   "metadata": {},
   "source": [
    "You can see that the two agree well.  You would have got the same answer had you used the `feval` constructed in method 2."
   ]
  },
  {
   "cell_type": "markdown",
   "metadata": {},
   "source": [
    "## A Simple Gradient Descent Optimizer\n",
    "\n",
    "Now, we build a simple gradient descent optimizer function with a fixed learning rate."
   ]
  },
  {
   "cell_type": "code",
   "execution_count": 11,
   "metadata": {},
   "outputs": [],
   "source": [
    "def grad_opt_simp(feval, winit, lr=1e-3,nit=1000):\n",
    "    \"\"\"\n",
    "    Simple gradient descent optimization\n",
    "    \n",
    "    feval:  A function that returns f, fgrad, the objective\n",
    "            function and its gradient\n",
    "    winit:  Initial estimate\n",
    "    lr:     learning rate\n",
    "    nit:    Number of iterations\n",
    "    \"\"\"\n",
    "    # Initialize\n",
    "    w0 = winit\n",
    "    \n",
    "    # Create history dictionary for tracking progress per iteration.\n",
    "    # This isn't necessary if you just want the final answer, but it \n",
    "    # is useful for debugging\n",
    "    hist = {'w': [], 'f': []}\n",
    "    \n",
    "    # Loop over iterations\n",
    "    for it in range(nit):\n",
    "\n",
    "        # Evaluate the function and gradient\n",
    "        f0, fgrad0 = feval(w0)\n",
    "\n",
    "        # Take a gradient step\n",
    "        w0 = w0 - lr*fgrad0\n",
    "        \n",
    "         # Save history\n",
    "        hist['f'].append(f0)\n",
    "        hist['w'].append(w0)\n",
    "\n",
    "    # Convert to numpy arrays\n",
    "    for elem in ('f', 'w'):\n",
    "        hist[elem] = np.array(hist[elem])\n",
    "    return w0, f0, hist"
   ]
  },
  {
   "cell_type": "markdown",
   "metadata": {},
   "source": [
    "We now run the gradient descent starting from a random initial condition."
   ]
  },
  {
   "cell_type": "code",
   "execution_count": 12,
   "metadata": {},
   "outputs": [
    {
     "data": {
      "image/png": "[encoded data removed]",
      "text/plain": [
       "<Figure size 432x288 with 1 Axes>"
      ]
     },
     "metadata": {},
     "output_type": "display_data"
    }
   ],
   "source": [
    "# Initial condition\n",
    "winit = np.random.randn(p)\n",
    "\n",
    "# Parameters\n",
    "feval = log_fun.feval\n",
    "nit = 1000\n",
    "lr = 1e-4\n",
    "\n",
    "# Run the gradient descent\n",
    "w, f0, hist = grad_opt_simp(feval, winit, lr=lr, nit=nit)\n",
    "\n",
    "# Plot the training loss\n",
    "t = np.arange(nit)\n",
    "plt.semilogx(t, hist['f'])\n",
    "plt.grid()"
   ]
  },
  {
   "cell_type": "markdown",
   "metadata": {},
   "source": [
    "We can measure the accuracy of the final estimate by creating a predict method."
   ]
  },
  {
   "cell_type": "code",
   "execution_count": 13,
   "metadata": {},
   "outputs": [
    {
     "name": "stdout",
     "output_type": "stream",
     "text": [
      "Test accuracy = 0.971731\n"
     ]
    }
   ],
   "source": [
    "def predict(X,w):\n",
    "    z = X.dot(w[1:]) + w[0]\n",
    "    yhat = (z > 0)\n",
    "    return yhat\n",
    "\n",
    "yhat = predict(Xts,w)\n",
    "acc = np.mean(yhat == yts)\n",
    "print(\"Test accuracy = %f\" % acc)"
   ]
  },
  {
   "cell_type": "markdown",
   "metadata": {},
   "source": [
    "This is not quite as good as the test accuracy for the `sklearn` method, which was about 98.5%.  The reason is that the learning rate was somewhat slow and we didn't yet fully converge.\n",
    "\n",
    "To see the effect of the learning rate, the code below tries different learning rates."
   ]
  },
  {
   "cell_type": "code",
   "execution_count": 14,
   "metadata": {},
   "outputs": [
    {
     "name": "stdout",
     "output_type": "stream",
     "text": [
      "lr=    1.00e-05  Test accuracy = 0.890459\n",
      "lr=    1.00e-04  Test accuracy = 0.971731\n",
      "lr=    1.00e-03  Test accuracy = 0.989399\n"
     ]
    },
    {
     "data": {
      "text/plain": [
       "<matplotlib.legend.Legend at 0x2a9f83965f8>"
      ]
     },
     "execution_count": 14,
     "metadata": {},
     "output_type": "execute_result"
    },
    {
     "data": {
      "image/png": "[encoded data removed]",
      "text/plain": [
       "<Figure size 432x288 with 1 Axes>"
      ]
     },
     "metadata": {},
     "output_type": "display_data"
    }
   ],
   "source": [
    "# Learning rate values to test\n",
    "lr_test = [1e-5,1e-4,1e-3]\n",
    "ntest = len(lr_test)\n",
    "\n",
    "# Strings for the legend\n",
    "leg_str = []\n",
    "\n",
    "for i, lr in enumerate(lr_test):\n",
    "    # Run the optimizer\n",
    "    w, f0, hist = grad_opt_simp(feval, winit, lr=lr, nit=nit)    \n",
    "    \n",
    "    # Plot the results\n",
    "    plt.semilogx(t, hist['f'])\n",
    "    leg_str.append(\"lr=%12.2e\" % lr)\n",
    "    \n",
    "    # Measure the test accuracy\n",
    "    yhat = predict(Xts,w)\n",
    "    acc = np.mean(yhat == yts)\n",
    "    print(\"lr=%12.2e  Test accuracy = %f\" % (lr, acc))\n",
    "    \n",
    "plt.grid()\n",
    "plt.legend(leg_str, loc='upper right')"
   ]
  },
  {
   "cell_type": "markdown",
   "metadata": {},
   "source": [
    "We see that increasing the learning rate, speeds the convergence time, but the optimization is beginning to go unstable."
   ]
  },
  {
   "cell_type": "markdown",
   "metadata": {},
   "source": [
    "## Adaptive Step Size\n",
    "\n",
    "The above example shows that gradient descent is sensitive to the step size.  We now consider a slight variant of gradient descent with an adaptive step-size using the Armijo rule in class."
   ]
  },
  {
   "cell_type": "code",
   "execution_count": 15,
   "metadata": {},
   "outputs": [],
   "source": [
    "def grad_opt_adapt(feval, winit, nit=1000, lr_init=1e-3):\n",
    "    \"\"\"\n",
    "    Gradient descent optimization with adaptive step size\n",
    "    \n",
    "    feval:  A function that returns f, fgrad, the objective\n",
    "            function and its gradient\n",
    "    winit:  Initial estimate\n",
    "    nit:    Number of iterations\n",
    "    lr:     Initial learning rate\n",
    "    \"\"\"\n",
    "    \n",
    "    # Set initial point\n",
    "    w0 = winit\n",
    "    f0, fgrad0 = feval(w0)\n",
    "    lr = lr_init\n",
    "    \n",
    "    # Create history dictionary for tracking progress per iteration.\n",
    "    # This isn't necessary if you just want the final answer, but it \n",
    "    # is useful for debugging\n",
    "    hist = {'lr': [], 'w': [], 'f': []}\n",
    "\n",
    "    for it in range(nit):\n",
    "\n",
    "        # Take a gradient step\n",
    "        w1 = w0 - lr*fgrad0\n",
    "\n",
    "        # Evaluate the test point by computing the objective function, f1,\n",
    "        # at the test point and the predicted decrease, df_est\n",
    "        f1, fgrad1 = feval(w1)\n",
    "        df_est = fgrad0.dot(w1-w0)\n",
    "        \n",
    "        # Check if test point passes the Armijo condition\n",
    "        alpha = 0.5\n",
    "        if (f1-f0 < alpha*df_est) and (f1 < f0):\n",
    "            # If descent is sufficient, accept the point and increase the\n",
    "            # learning rate\n",
    "            lr = lr*2\n",
    "            f0 = f1\n",
    "            fgrad0 = fgrad1\n",
    "            w0 = w1\n",
    "        else:\n",
    "            # Otherwise, decrease the learning rate\n",
    "            lr = lr/2            \n",
    "            \n",
    "        # Save history\n",
    "        hist['f'].append(f0)\n",
    "        hist['lr'].append(lr)\n",
    "        hist['w'].append(w0)\n",
    "\n",
    "    # Convert to numpy arrays\n",
    "    for elem in ('f', 'lr', 'w'):\n",
    "        hist[elem] = np.array(hist[elem])\n",
    "    return w0, f0, hist\n"
   ]
  },
  {
   "cell_type": "markdown",
   "metadata": {},
   "source": [
    "We can now run the new optimizer."
   ]
  },
  {
   "cell_type": "code",
   "execution_count": 16,
   "metadata": {},
   "outputs": [
    {
     "data": {
      "image/png": "[encoded data removed]",
      "text/plain": [
       "<Figure size 432x288 with 2 Axes>"
      ]
     },
     "metadata": {},
     "output_type": "display_data"
    }
   ],
   "source": [
    "winit = np.random.randn(p)\n",
    "nit = 1000\n",
    "w, f0, hist = grad_opt_adapt(feval, winit, nit=nit)\n",
    "\n",
    "t = np.arange(nit)\n",
    "plt.subplot(2,1,1)\n",
    "plt.semilogx(t, hist['f'])\n",
    "plt.grid()\n",
    "plt.ylabel('Loss')\n",
    "\n",
    "plt.subplot(2,1,2)\n",
    "plt.loglog(t, hist['lr'])\n",
    "plt.grid()\n",
    "plt.ylabel('Learning rate')\n",
    "plt.xlabel('Iteration')\n",
    "\n",
    "plt.tight_layout()"
   ]
  },
  {
   "cell_type": "markdown",
   "metadata": {},
   "source": [
    "Finally we measure the accuracy."
   ]
  },
  {
   "cell_type": "code",
   "execution_count": 17,
   "metadata": {},
   "outputs": [
    {
     "name": "stdout",
     "output_type": "stream",
     "text": [
      "Test accuracy = 0.989399\n"
     ]
    }
   ],
   "source": [
    "yhat = predict(Xts,w)\n",
    "acc = np.mean(yhat == yts)\n",
    "print(\"Test accuracy = %f\" % acc)"
   ]
  },
  {
   "cell_type": "markdown",
   "metadata": {},
   "source": [
    "## In-Class Exercise\n",
    "\n",
    "Try to a build a simple optimizer to minimize:\n",
    "\n",
    "    f(w) = a[0] + a[1]*w + a[2]*w^2 + ... + a[d]*w^d\n",
    "    \n",
    "for the coefficients `a = [0,0.5,-2,0,1]`.\n",
    "\n",
    "* Plot the function f(w)\n",
    "* Can you see where the minima is?\n",
    "* Write a function that outputs f(w) and its gradient.\n",
    "* Run the optimizer on the function to see if it finds the minima.\n",
    "* Print the funciton value and number of iterations.\n",
    "* Bonus:  Instead of writing the function for a specific coefficient vector `a`, create a class that works for an arbitrary vector `a`.\n",
    "\n",
    "You may wish to use the `poly.polyval(w,a)` method to evaluate the polynomial."
   ]
  },
  {
   "cell_type": "code",
   "execution_count": 29,
   "metadata": {},
   "outputs": [
    {
     "data": {
      "text/plain": [
       "[<matplotlib.lines.Line2D at 0x2a9800a26d8>]"
      ]
     },
     "execution_count": 29,
     "metadata": {},
     "output_type": "execute_result"
    },
    {
     "data": {
      "image/png": "[encoded data removed]",
      "text/plain": [
       "<Figure size 432x288 with 1 Axes>"
      ]
     },
     "metadata": {},
     "output_type": "display_data"
    }
   ],
   "source": [
    "import numpy.polynomial.polynomial as poly\n",
    "a = [0,0.5,-2,0,1]\n",
    "plt.plot(np.polyval(w,a))\n",
    "#there is a maxima at 2"
   ]
  },
  {
   "cell_type": "code",
   "execution_count": 30,
   "metadata": {},
   "outputs": [],
   "source": [
    "def feval(w):\n",
    "\n",
    "    # Function\n",
    "    f = a[1]*w - (a[2]*(w**2))+(a[4]*(w**4))\n",
    "    #f=0.5w-2w^2+w^4\n",
    "\n",
    "    # Gradient\n",
    "    df0 = 0.5-(4*w)+(4*(w**3))\n",
    "    df1 = -4+(12*(w**2))\n",
    "    fgrad = np.array([df0, df1])\n",
    "    \n",
    "    return f, fgrad"
   ]
  },
  {
   "cell_type": "code",
   "execution_count": 31,
   "metadata": {},
   "outputs": [
    {
     "name": "stdout",
     "output_type": "stream",
     "text": [
      "f:  [ 4.82669864e+01  7.77458927e-02  9.91831787e-01  5.96218330e-02\n",
      "  1.48197469e-01  1.38531436e-02  5.96814920e-01  2.44467535e-01\n",
      "  2.01645785e-01 -1.50126738e-02]\n",
      "fgrad:  [[-49.97557904   0.07187871  -1.03648109   0.15038833  -0.17411721\n",
      "    1.49036132  -0.88584175   1.9560253   -0.31916031   0.63943193]\n",
      " [ 69.27817924  -3.85925181  -0.29038865  -3.90688943  -3.6376182\n",
      "   -3.14758865  -1.87140447  -1.41947329  -3.4469252   -3.98538347]]\n"
     ]
    }
   ],
   "source": [
    "f, fgrad = feval(w)\n",
    "print(\"f: \", f)\n",
    "print(\"fgrad: \", fgrad)"
   ]
  },
  {
   "cell_type": "code",
   "execution_count": 42,
   "metadata": {},
   "outputs": [
    {
     "name": "stdout",
     "output_type": "stream",
     "text": [
      "w= [-3.43403542  0.16233876  0.25334165  0.23902082  0.20224897 -0.14301149\n",
      "  0.36363668 -0.27444444  0.16738331  0.06553861]\n",
      "f0= 63.00225255854036\n",
      "hist= {'w': array([[-1.23628107,  0.95323477,  0.46317878, ...,  1.0736144 ,\n",
      "         0.17663125,  0.45095906],\n",
      "       [-1.25906123,  0.89315944,  0.432399  , ...,  1.01774549,\n",
      "         0.14535286,  0.42637924],\n",
      "       [-1.28182948,  0.83309974,  0.40163143, ...,  0.96189616,\n",
      "         0.11408747,  0.40181158],\n",
      "       ...,\n",
      "       [-3.43160041,  0.16216011,  0.25349084, ..., -0.27476863,\n",
      "         0.16743513,  0.06542285],\n",
      "       [-3.43281825,  0.16224947,  0.2534163 , ..., -0.27460651,\n",
      "         0.16740921,  0.06548072],\n",
      "       [-3.43403542,  0.16233876,  0.25334165, ..., -0.27444444,\n",
      "         0.16738331,  0.06553861]]), 'f': array([2331.26785605, 2178.2258287 , 2025.26458715, 1872.4353034 ,\n",
      "       1719.82284401, 1567.56875352, 1415.90991313, 1265.24174559,\n",
      "       1116.21422686,  969.85819609,  827.72544534,  692.04449239,\n",
      "        565.87211165,  452.94804706,  356.88199277,  280.33165504,\n",
      "        224.61037835,  188.42635041,  167.38748187,  156.20854365,\n",
      "        150.5672062 ,  147.58512698,  145.7055043 ,  144.24204031,\n",
      "        142.93782444,  141.70643345,  140.52012905,  139.36975438,\n",
      "        138.25179929,  137.16445841,  136.10646134,  135.07672816,\n",
      "        134.07426674,  133.09814094,  132.14745959,  131.22137167,\n",
      "        130.31906353,  129.43975665,  128.58270573,  127.74719694,\n",
      "        126.93254619,  126.13809758,  125.36322185,  124.60731498,\n",
      "        123.86979682,  123.15010978,  122.44771764,  121.76210439,\n",
      "        121.09277315,  120.43924516,  119.80105882,  119.17776883,\n",
      "        118.56894529,  117.974173  ,  117.39305067,  116.82519027,\n",
      "        116.27021642,  115.72776575,  115.1974864 ,  114.67903751,\n",
      "        114.17208871,  113.67631974,  113.19141998,  112.71708813,\n",
      "        112.25303182,  111.79896727,  111.35461903,  110.91971964,\n",
      "        110.4940094 ,  110.07723607,  109.6691547 ,  109.26952732,\n",
      "        108.8781228 ,  108.49471658,  108.11909055,  107.75103281,\n",
      "        107.3903375 ,  107.03680464,  106.69023999,  106.35045485,\n",
      "        106.01726594,  105.69049522,  105.36996979,  105.05552172,\n",
      "        104.74698793,  104.44421005,  104.14703431,  103.85531138,\n",
      "        103.56889628,  103.28764826,  103.01143067,  102.74011085,\n",
      "        102.47356001,  102.21165316,  101.95426895,  101.7012896 ,\n",
      "        101.45260081,  101.20809162,  100.96765434,  100.73118445,\n",
      "        100.49858052,  100.26974409,  100.04457962,   99.82299437,\n",
      "         99.60489833,   99.39020414,   99.17882702,   98.97068468,\n",
      "         98.76569722,   98.56378711,   98.36487909,   98.1689001 ,\n",
      "         97.97577919,   97.7854475 ,   97.59783818,   97.41288631,\n",
      "         97.23052886,   97.05070461,   96.87335411,   96.69841963,\n",
      "         96.5258451 ,   96.35557605,   96.18755956,   96.02174423,\n",
      "         95.85808011,   95.69651866,   95.53701273,   95.37951647,\n",
      "         95.22398535,   95.07037605,   94.91864647,   94.76875569,\n",
      "         94.62066391,   94.47433243,   94.3297236 ,   94.18680083,\n",
      "         94.04552849,   93.90587194,   93.76779748,   93.6312723 ,\n",
      "         93.49626449,   93.36274296,   93.23067749,   93.10003863,\n",
      "         92.97079771,   92.84292682,   92.71639877,   92.59118711,\n",
      "         92.46726602,   92.34461039,   92.22319575,   92.10299823,\n",
      "         91.98399459,   91.86616218,   91.74947891,   91.63392324,\n",
      "         91.51947419,   91.40611129,   91.29381456,   91.18256454,\n",
      "         91.07234224,   90.96312911,   90.85490708,   90.74765851,\n",
      "         90.64136617,   90.53601325,   90.43158335,   90.32806045,\n",
      "         90.2254289 ,   90.12367344,   90.02277914,   89.92273144,\n",
      "         89.8235161 ,   89.72511921,   89.62752718,   89.53072675,\n",
      "         89.43470493,   89.33944903,   89.24494666,   89.15118569,\n",
      "         89.05815427,   88.96584081,   88.87423398,   88.78332267,\n",
      "         88.69309605,   88.60354351,   88.51465465,   88.42641933,\n",
      "         88.33882759,   88.25186971,   88.16553616,   88.0798176 ,\n",
      "         87.99470492,   87.91018917,   87.82626158,   87.7429136 ,\n",
      "         87.6601368 ,   87.57792298,   87.49626406,   87.41515215,\n",
      "         87.3345795 ,   87.25453853,   87.17502181,   87.09602205,\n",
      "         87.01753209,   86.93954495,   86.86205375,   86.78505175,\n",
      "         86.70853236,   86.63248909,   86.55691559,   86.48180563,\n",
      "         86.40715309,   86.33295197,   86.25919639,   86.18588056,\n",
      "         86.11299882,   86.04054559,   85.96851543,   85.89690295,\n",
      "         85.82570289,   85.75491009,   85.68451946,   85.61452602,\n",
      "         85.54492487,   85.4757112 ,   85.40688028,   85.33842747,\n",
      "         85.2703482 ,   85.202638  ,   85.13529246,   85.06830725,\n",
      "         85.00167811,   84.93540087,   84.86947141,   84.80388569,\n",
      "         84.73863974,   84.67372965,   84.60915159,   84.54490176,\n",
      "         84.48097646,   84.41737204,   84.35408489,   84.29111149,\n",
      "         84.22844835,   84.16609206,   84.10403924,   84.04228658,\n",
      "         83.98083082,   83.91966876,   83.85879723,   83.79821313,\n",
      "         83.73791339,   83.67789501,   83.61815502,   83.55869049,\n",
      "         83.49949857,   83.4405764 ,   83.38192122,   83.32353026,\n",
      "         83.26540083,   83.20753026,   83.14991594,   83.09255527,\n",
      "         83.03544571,   82.97858475,   82.92196993,   82.8655988 ,\n",
      "         82.80946897,   82.75357807,   82.69792377,   82.64250378,\n",
      "         82.58731583,   82.53235768,   82.47762715,   82.42312206,\n",
      "         82.36884027,   82.31477968,   82.26093821,   82.2073138 ,\n",
      "         82.15390444,   82.10070814,   82.04772293,   81.99494686,\n",
      "         81.94237804,   81.89001457,   81.83785459,   81.78589627,\n",
      "         81.7341378 ,   81.68257739,   81.63121328,   81.58004373,\n",
      "         81.52906702,   81.47828147,   81.4276854 ,   81.37727716,\n",
      "         81.32705512,   81.27701768,   81.22716326,   81.17749028,\n",
      "         81.12799721,   81.07868251,   81.02954469,   80.98058226,\n",
      "         80.93179374,   80.88317769,   80.83473269,   80.78645731,\n",
      "         80.73835016,   80.69040987,   80.64263506,   80.59502441,\n",
      "         80.54757658,   80.50029026,   80.45316416,   80.406197  ,\n",
      "         80.3593875 ,   80.31273444,   80.26623656,   80.21989266,\n",
      "         80.17370153,   80.12766197,   80.08177283,   80.03603292,\n",
      "         79.99044112,   79.94499627,   79.89969726,   79.85454299,\n",
      "         79.80953236,   79.76466428,   79.71993769,   79.67535153,\n",
      "         79.63090476,   79.58659634,   79.54242524,   79.49839047,\n",
      "         79.45449103,   79.41072592,   79.36709417,   79.32359482,\n",
      "         79.28022691,   79.2369895 ,   79.19388166,   79.15090246,\n",
      "         79.108051  ,   79.06532637,   79.02272767,   78.98025404,\n",
      "         78.93790458,   78.89567845,   78.85357479,   78.81159275,\n",
      "         78.76973149,   78.7279902 ,   78.68636806,   78.64486425,\n",
      "         78.60347797,   78.56220844,   78.52105487,   78.48001649,\n",
      "         78.43909253,   78.39828222,   78.35758483,   78.31699961,\n",
      "         78.27652582,   78.23616273,   78.19590963,   78.1557658 ,\n",
      "         78.11573055,   78.07580316,   78.03598295,   77.99626924,\n",
      "         77.95666135,   77.9171586 ,   77.87776035,   77.83846592,\n",
      "         77.79927468,   77.76018597,   77.72119916,   77.68231363,\n",
      "         77.64352874,   77.60484388,   77.56625843,   77.5277718 ,\n",
      "         77.48938338,   77.45109257,   77.4128988 ,   77.37480147,\n",
      "         77.33680001,   77.29889385,   77.26108242,   77.22336517,\n",
      "         77.18574154,   77.14821097,   77.11077293,   77.07342688,\n",
      "         77.03617228,   76.9990086 ,   76.96193532,   76.92495193,\n",
      "         76.8880579 ,   76.85125273,   76.81453591,   76.77790694,\n",
      "         76.74136534,   76.7049106 ,   76.66854225,   76.6322598 ,\n",
      "         76.59606277,   76.55995069,   76.5239231 ,   76.48797953,\n",
      "         76.45211951,   76.41634261,   76.38064835,   76.3450363 ,\n",
      "         76.30950601,   76.27405705,   76.23868897,   76.20340135,\n",
      "         76.16819376,   76.13306577,   76.09801697,   76.06304694,\n",
      "         76.02815526,   75.99334152,   75.95860533,   75.92394628,\n",
      "         75.88936396,   75.85485799,   75.82042798,   75.78607353,\n",
      "         75.75179426,   75.71758979,   75.68345975,   75.64940375,\n",
      "         75.61542142,   75.5815124 ,   75.54767632,   75.51391281,\n",
      "         75.48022153,   75.4466021 ,   75.41305419,   75.37957743,\n",
      "         75.34617149,   75.31283601,   75.27957066,   75.24637509,\n",
      "         75.21324897,   75.18019197,   75.14720376,   75.114284  ,\n",
      "         75.08143238,   75.04864857,   75.01593225,   74.9832831 ,\n",
      "         74.95070081,   74.91818507,   74.88573557,   74.853352  ,\n",
      "         74.82103405,   74.78878142,   74.75659382,   74.72447095,\n",
      "         74.6924125 ,   74.6604182 ,   74.62848774,   74.59662084,\n",
      "         74.56481722,   74.53307658,   74.50139866,   74.46978316,\n",
      "         74.43822982,   74.40673835,   74.37530849,   74.34393996,\n",
      "         74.31263249,   74.28138583,   74.2501997 ,   74.21907384,\n",
      "         74.18800799,   74.1570019 ,   74.1260553 ,   74.09516794,\n",
      "         74.06433957,   74.03356994,   74.0028588 ,   73.9722059 ,\n",
      "         73.94161099,   73.91107384,   73.8805942 ,   73.85017183,\n",
      "         73.8198065 ,   73.78949796,   73.75924599,   73.72905034,\n",
      "         73.69891079,   73.66882711,   73.63879907,   73.60882645,\n",
      "         73.57890902,   73.54904655,   73.51923883,   73.48948564,\n",
      "         73.45978676,   73.43014196,   73.40055105,   73.37101379,\n",
      "         73.34152999,   73.31209942,   73.28272189,   73.25339718,\n",
      "         73.22412509,   73.19490541,   73.16573794,   73.13662247,\n",
      "         73.10755882,   73.07854677,   73.04958613,   73.0206767 ,\n",
      "         72.9918183 ,   72.96301071,   72.93425376,   72.90554725,\n",
      "         72.876891  ,   72.8482848 ,   72.81972848,   72.79122185,\n",
      "         72.76276473,   72.73435693,   72.70599826,   72.67768856,\n",
      "         72.64942763,   72.62121531,   72.5930514 ,   72.56493574,\n",
      "         72.53686815,   72.50884846,   72.48087649,   72.45295208,\n",
      "         72.42507504,   72.39724522,   72.36946244,   72.34172654,\n",
      "         72.31403735,   72.2863947 ,   72.25879843,   72.23124838,\n",
      "         72.20374439,   72.17628629,   72.14887392,   72.12150713,\n",
      "         72.09418576,   72.06690964,   72.03967863,   72.01249257,\n",
      "         71.98535131,   71.95825469,   71.93120256,   71.90419476,\n",
      "         71.87723116,   71.85031159,   71.82343592,   71.79660399,\n",
      "         71.76981565,   71.74307077,   71.71636919,   71.68971077,\n",
      "         71.66309537,   71.63652285,   71.60999306,   71.58350587,\n",
      "         71.55706114,   71.53065871,   71.50429847,   71.47798027,\n",
      "         71.45170397,   71.42546944,   71.39927655,   71.37312515,\n",
      "         71.34701512,   71.32094633,   71.29491863,   71.26893191,\n",
      "         71.24298604,   71.21708087,   71.19121629,   71.16539216,\n",
      "         71.13960836,   71.11386476,   71.08816124,   71.06249767,\n",
      "         71.03687392,   71.01128988,   70.98574542,   70.96024042,\n",
      "         70.93477476,   70.90934831,   70.88396095,   70.85861258,\n",
      "         70.83330306,   70.80803228,   70.78280012,   70.75760646,\n",
      "         70.7324512 ,   70.7073342 ,   70.68225537,   70.65721458,\n",
      "         70.63221172,   70.60724667,   70.58231933,   70.55742959,\n",
      "         70.53257732,   70.50776243,   70.48298479,   70.45824431,\n",
      "         70.43354087,   70.40887436,   70.38424468,   70.35965172,\n",
      "         70.33509538,   70.31057554,   70.2860921 ,   70.26164495,\n",
      "         70.237234  ,   70.21285914,   70.18852026,   70.16421726,\n",
      "         70.13995005,   70.11571851,   70.09152255,   70.06736207,\n",
      "         70.04323696,   70.01914713,   69.99509248,   69.9710729 ,\n",
      "         69.94708831,   69.9231386 ,   69.89922368,   69.87534344,\n",
      "         69.85149781,   69.82768666,   69.80390993,   69.7801675 ,\n",
      "         69.75645928,   69.73278519,   69.70914512,   69.68553898,\n",
      "         69.66196669,   69.63842815,   69.61492327,   69.59145195,\n",
      "         69.56801411,   69.54460966,   69.52123851,   69.49790056,\n",
      "         69.47459574,   69.45132394,   69.42808509,   69.40487909,\n",
      "         69.38170586,   69.35856532,   69.33545736,   69.31238192,\n",
      "         69.2893389 ,   69.26632823,   69.2433498 ,   69.22040355,\n",
      "         69.19748938,   69.17460721,   69.15175697,   69.12893856,\n",
      "         69.10615191,   69.08339693,   69.06067354,   69.03798166,\n",
      "         69.01532121,   68.99269211,   68.97009428,   68.94752764,\n",
      "         68.92499211,   68.90248761,   68.88001406,   68.85757138,\n",
      "         68.83515951,   68.81277835,   68.79042783,   68.76810788,\n",
      "         68.74581842,   68.72355937,   68.70133065,   68.6791322 ,\n",
      "         68.65696393,   68.63482577,   68.61271765,   68.5906395 ,\n",
      "         68.56859123,   68.54657278,   68.52458406,   68.50262502,\n",
      "         68.48069558,   68.45879566,   68.43692519,   68.4150841 ,\n",
      "         68.39327232,   68.37148978,   68.34973641,   68.32801214,\n",
      "         68.30631689,   68.28465061,   68.26301321,   68.24140463,\n",
      "         68.2198248 ,   68.19827365,   68.17675112,   68.15525713,\n",
      "         68.13379162,   68.11235452,   68.09094576,   68.06956528,\n",
      "         68.04821301,   68.02688888,   68.00559284,   67.9843248 ,\n",
      "         67.96308471,   67.9418725 ,   67.9206881 ,   67.89953146,\n",
      "         67.8784025 ,   67.85730117,   67.83622739,   67.81518111,\n",
      "         67.79416227,   67.77317079,   67.75220661,   67.73126968,\n",
      "         67.71035993,   67.6894773 ,   67.66862173,   67.64779315,\n",
      "         67.62699151,   67.60621674,   67.58546878,   67.56474757,\n",
      "         67.54405305,   67.52338516,   67.50274385,   67.48212904,\n",
      "         67.46154069,   67.44097873,   67.4204431 ,   67.39993375,\n",
      "         67.37945061,   67.35899363,   67.33856275,   67.31815791,\n",
      "         67.29777906,   67.27742613,   67.25709907,   67.23679783,\n",
      "         67.21652234,   67.19627255,   67.1760484 ,   67.15584984,\n",
      "         67.13567681,   67.11552926,   67.09540712,   67.07531035,\n",
      "         67.05523889,   67.03519268,   67.01517168,   66.99517582,\n",
      "         66.97520505,   66.95525931,   66.93533857,   66.91544275,\n",
      "         66.8955718 ,   66.87572568,   66.85590433,   66.8361077 ,\n",
      "         66.81633573,   66.79658837,   66.77686557,   66.75716728,\n",
      "         66.73749345,   66.71784402,   66.69821894,   66.67861816,\n",
      "         66.65904164,   66.63948931,   66.61996113,   66.60045704,\n",
      "         66.58097701,   66.56152097,   66.54208888,   66.52268068,\n",
      "         66.50329633,   66.48393578,   66.46459898,   66.44528588,\n",
      "         66.42599643,   66.40673057,   66.38748827,   66.36826948,\n",
      "         66.34907414,   66.32990221,   66.31075364,   66.29162838,\n",
      "         66.27252638,   66.2534476 ,   66.23439199,   66.2153595 ,\n",
      "         66.19635009,   66.1773637 ,   66.1584003 ,   66.13945983,\n",
      "         66.12054225,   66.10164752,   66.08277558,   66.06392639,\n",
      "         66.0450999 ,   66.02629607,   66.00751486,   65.98875622,\n",
      "         65.9700201 ,   65.95130645,   65.93261525,   65.91394643,\n",
      "         65.89529995,   65.87667578,   65.85807386,   65.83949415,\n",
      "         65.82093661,   65.80240119,   65.78388785,   65.76539656,\n",
      "         65.74692725,   65.72847989,   65.71005444,   65.69165086,\n",
      "         65.6732691 ,   65.65490911,   65.63657087,   65.61825431,\n",
      "         65.59995941,   65.58168612,   65.56343439,   65.54520419,\n",
      "         65.52699547,   65.5088082 ,   65.49064233,   65.47249781,\n",
      "         65.45437462,   65.4362727 ,   65.41819202,   65.40013254,\n",
      "         65.38209421,   65.36407699,   65.34608085,   65.32810575,\n",
      "         65.31015163,   65.29221848,   65.27430623,   65.25641486,\n",
      "         65.23854432,   65.22069458,   65.2028656 ,   65.18505733,\n",
      "         65.16726973,   65.14950278,   65.13175643,   65.11403063,\n",
      "         65.09632536,   65.07864057,   65.06097623,   65.04333229,\n",
      "         65.02570872,   65.00810548,   64.99052253,   64.97295984,\n",
      "         64.95541737,   64.93789507,   64.92039292,   64.90291087,\n",
      "         64.88544888,   64.86800693,   64.85058497,   64.83318296,\n",
      "         64.81580088,   64.79843867,   64.78109632,   64.76377377,\n",
      "         64.74647099,   64.72918795,   64.71192461,   64.69468094,\n",
      "         64.67745689,   64.66025244,   64.64306754,   64.62590217,\n",
      "         64.60875628,   64.59162984,   64.57452281,   64.55743517,\n",
      "         64.54036686,   64.52331787,   64.50628816,   64.48927768,\n",
      "         64.47228641,   64.4553143 ,   64.43836134,   64.42142747,\n",
      "         64.40451268,   64.38761691,   64.37074015,   64.35388234,\n",
      "         64.33704347,   64.3202235 ,   64.30342239,   64.28664011,\n",
      "         64.26987663,   64.25313191,   64.23640592,   64.21969862,\n",
      "         64.20300999,   64.18633999,   64.16968858,   64.15305574,\n",
      "         64.13644143,   64.11984562,   64.10326827,   64.08670936,\n",
      "         64.07016885,   64.05364671,   64.0371429 ,   64.0206574 ,\n",
      "         64.00419017,   63.98774118,   63.9713104 ,   63.9548978 ,\n",
      "         63.93850334,   63.922127  ,   63.90576874,   63.88942852,\n",
      "         63.87310633,   63.85680212,   63.84051588,   63.82424755,\n",
      "         63.80799712,   63.79176456,   63.77554982,   63.75935289,\n",
      "         63.74317373,   63.72701232,   63.71086861,   63.69474258,\n",
      "         63.6786342 ,   63.66254344,   63.64647027,   63.63041466,\n",
      "         63.61437657,   63.59835599,   63.58235287,   63.5663672 ,\n",
      "         63.55039893,   63.53444804,   63.51851451,   63.50259829,\n",
      "         63.48669937,   63.47081771,   63.45495328,   63.43910605,\n",
      "         63.42327601,   63.4074631 ,   63.39166731,   63.37588862,\n",
      "         63.36012698,   63.34438237,   63.32865476,   63.31294413,\n",
      "         63.29725044,   63.28157367,   63.26591378,   63.25027076,\n",
      "         63.23464456,   63.21903518,   63.20344256,   63.1878667 ,\n",
      "         63.17230755,   63.1567651 ,   63.14123931,   63.12573016,\n",
      "         63.11023761,   63.09476165,   63.07930224,   63.06385936,\n",
      "         63.04843298,   63.03302307,   63.01762961,   63.00225256])}\n"
     ]
    },
    {
     "data": {
      "image/png": "[encoded data removed]",
      "text/plain": [
       "<Figure size 432x288 with 1 Axes>"
      ]
     },
     "metadata": {},
     "output_type": "display_data"
    }
   ],
   "source": [
    "# Initial condition\n",
    "winit = np.random.randn(p)\n",
    "\n",
    "# Parameters\n",
    "feval = feval\n",
    "nit = 1000\n",
    "lr = 1e-4\n",
    "# Run the gradient descent\n",
    "w, f0, hist = grad_opt_simp(feval, winit, lr=lr, nit=nit)\n",
    "\n",
    "print(\"w=\",w)\n",
    "print(\"f0=\",f0)\n",
    "print(\"hist=\",hist)\n",
    "\n",
    "t = np.arange(nit)\n",
    "plt.semilogx(t, hist['f'])\n",
    "plt.grid()\n",
    "\n",
    "\n"
   ]
  },
  {
   "cell_type": "code",
   "execution_count": 43,
   "metadata": {},
   "outputs": [
    {
     "data": {
      "image/png": "[encoded data removed]",
      "text/plain": [
       "<Figure size 432x288 with 2 Axes>"
      ]
     },
     "metadata": {},
     "output_type": "display_data"
    }
   ],
   "source": [
    "winit = np.random.randn(p)\n",
    "nit = 1000\n",
    "w, f0, hist = grad_opt_adapt(feval, winit, nit=nit)\n",
    "\n",
    "t = np.arange(nit)\n",
    "plt.subplot(2,1,1)\n",
    "plt.semilogx(t, hist['f'])\n",
    "plt.grid()\n",
    "plt.ylabel('Loss')\n",
    "\n",
    "plt.subplot(2,1,2)\n",
    "plt.loglog(t, hist['lr'])\n",
    "plt.grid()\n",
    "plt.ylabel('Learning rate')\n",
    "plt.xlabel('Iteration')\n",
    "\n",
    "plt.tight_layout()"
   ]
  },
  {
   "cell_type": "code",
   "execution_count": null,
   "metadata": {},
   "outputs": [],
   "source": []
  }
 ],
 "metadata": {
  "anaconda-cloud": {},
  "kernelspec": {
   "display_name": "Python 3",
   "language": "python",
   "name": "python3"
  },
  "language_info": {
   "codemirror_mode": {
    "name": "ipython",
    "version": 3
   },
   "file_extension": ".py",
   "mimetype": "text/x-python",
   "name": "python",
   "nbconvert_exporter": "python",
   "pygments_lexer": "ipython3",
   "version": "3.6.3"
  }
 },
 "nbformat": 4,
 "nbformat_minor": 1
}
